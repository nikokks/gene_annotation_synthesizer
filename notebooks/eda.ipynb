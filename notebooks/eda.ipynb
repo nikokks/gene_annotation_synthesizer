{
 "cells": [
  {
   "cell_type": "markdown",
   "metadata": {},
   "source": [
    "# Exploratory data analysis\n",
    "\n",
    "This notebook explores the features extracted from TREMBL protein dataset from Uniprot.\n",
    "\n",
    "Here is a general description of this dataset [(source)](https://img.jgi.doe.gov/datasource.html):\n",
    "\n",
    "_UniProt/TrEMBL (Translated EMBL Nucleotide Sequence Data Library) is a computer-annotated protein sequence database complementing the UniProt/SwissProt protein knowledgebase. Recognizing that sequence data were being generated at a pace exceeding SwissProt's ability to keep up, TrEMBL was created to provide automated annotations for those proteins not in SwissProt. UniProt/TrEMBL contains the translations of all coding sequences (CDS) present in the EMBL/GenBank/DDBJ nucleotide sequence databases and also protein sequences extracted from the literature or submitted to UniProt/Swiss-Prot. The database is enriched with automated classification and annotation. All protein translations submitted to the GenBank/EMBL/DDBJ nucleotide sequence databases are automatically incorporated into the next incremental UniProt Knowledgebase release (fortnightly)._\n",
    "\n",
    "Features of interest were extracted from the XML dataset into a tabular format and their distributions and relationships are analyzed here"
   ]
  },
  {
   "cell_type": "code",
   "execution_count": 1,
   "metadata": {},
   "outputs": [],
   "source": [
    "import itertools as it\n",
    "from typing import Iterable, Dict\n",
    "from collections import defaultdict\n",
    "import numpy as np\n",
    "import pandas as pd\n",
    "from scipy.sparse import csr_matrix\n",
    "import matplotlib.pyplot as plt\n",
    "import seaborn as sns"
   ]
  },
  {
   "cell_type": "markdown",
   "metadata": {},
   "source": [
    "The entire Trembl set is way too large to be analyzed in memory, so we'll take the first 3M genes to have a good idea of the features distributions:"
   ]
  },
  {
   "cell_type": "code",
   "execution_count": 2,
   "metadata": {},
   "outputs": [
    {
     "name": "stdout",
     "output_type": "stream",
     "text": [
      "Process is interrupted.\n"
     ]
    }
   ],
   "source": [
    "%%bash\n",
    "gzip -dc ../data/uniprot_trembl.tsv.gz | wc -l"
   ]
  },
  {
   "cell_type": "code",
   "execution_count": 3,
   "metadata": {},
   "outputs": [],
   "source": [
    "# Load all metadata associated with genes a sample of genes\n",
    "df = pd.read_csv(\n",
    "    '../data/uniprot_trembl.tsv.gz',\n",
    "    sep='\\t',\n",
    "    usecols=range(8),\n",
    "    names=['accession', 'evidence', 'citations', 'taxid', 'name', 'IPR', 'PFAM', 'GO'],\n",
    "    dtype={'IPR': str, 'PFAM': str, 'GO': str, 'taxid': int},\n",
    "    nrows=3000000\n",
    ")\n"
   ]
  },
  {
   "cell_type": "code",
   "execution_count": 4,
   "metadata": {},
   "outputs": [],
   "source": [
    "def fmt_terms(vec: pd.Series) -> pd.Series:\n",
    "    vec = vec.str.split('|')\n",
    "    vec = vec.apply(lambda d: d if isinstance(d, list) else [])\n",
    "    return vec\n",
    "\n",
    "def get_all_terms_counts(vec: pd.Series) -> Dict[str, int]:\n",
    "    \"\"\"Given a series of lists of terms, return the set of terms\n",
    "    with their number of occurences\"\"\"\n",
    "    all_terms = defaultdict(int)\n",
    "    for l in vec:\n",
    "        for v in l:\n",
    "            all_terms[v] += 1\n",
    "    return dict(all_terms)\n",
    "\n",
    "df[['IPR', 'PFAM', 'GO']] = df[['IPR', 'PFAM', 'GO']].apply(\n",
    "    fmt_terms, axis=0\n",
    ")"
   ]
  },
  {
   "cell_type": "code",
   "execution_count": 5,
   "metadata": {},
   "outputs": [
    {
     "name": "stdout",
     "output_type": "stream",
     "text": [
      "<class 'pandas.core.frame.DataFrame'>\n",
      "RangeIndex: 3000000 entries, 0 to 2999999\n",
      "Data columns (total 3 columns):\n",
      " #   Column  Dtype \n",
      "---  ------  ----- \n",
      " 0   IPR     object\n",
      " 1   PFAM    object\n",
      " 2   GO      object\n",
      "dtypes: object(3)\n",
      "memory usage: 68.7+ MB\n"
     ]
    }
   ],
   "source": [
    "df[['IPR', 'PFAM', 'GO']].info()"
   ]
  },
  {
   "cell_type": "code",
   "execution_count": 6,
   "metadata": {},
   "outputs": [
    {
     "data": {
      "text/html": [
       "<div>\n",
       "<style scoped>\n",
       "    .dataframe tbody tr th:only-of-type {\n",
       "        vertical-align: middle;\n",
       "    }\n",
       "\n",
       "    .dataframe tbody tr th {\n",
       "        vertical-align: top;\n",
       "    }\n",
       "\n",
       "    .dataframe thead th {\n",
       "        text-align: right;\n",
       "    }\n",
       "</style>\n",
       "<table border=\"1\" class=\"dataframe\">\n",
       "  <thead>\n",
       "    <tr style=\"text-align: right;\">\n",
       "      <th></th>\n",
       "      <th>accession</th>\n",
       "      <th>evidence</th>\n",
       "      <th>citations</th>\n",
       "      <th>taxid</th>\n",
       "      <th>name</th>\n",
       "      <th>IPR</th>\n",
       "      <th>PFAM</th>\n",
       "      <th>GO</th>\n",
       "    </tr>\n",
       "  </thead>\n",
       "  <tbody>\n",
       "    <tr>\n",
       "      <th>0</th>\n",
       "      <td>A0A375IQD5</td>\n",
       "      <td>predicted</td>\n",
       "      <td>1</td>\n",
       "      <td>164546</td>\n",
       "      <td>Putative transcriptional regulator, HTH arsR f...</td>\n",
       "      <td>[IPR011991, IPR001845, IPR036388, IPR036390]</td>\n",
       "      <td>[]</td>\n",
       "      <td>[GO:0003700]</td>\n",
       "    </tr>\n",
       "    <tr>\n",
       "      <th>1</th>\n",
       "      <td>A0A397C8L6</td>\n",
       "      <td>predicted</td>\n",
       "      <td>1</td>\n",
       "      <td>112090</td>\n",
       "      <td>Uncharacterized protein</td>\n",
       "      <td>[]</td>\n",
       "      <td>[]</td>\n",
       "      <td>[GO:0016021]</td>\n",
       "    </tr>\n",
       "    <tr>\n",
       "      <th>2</th>\n",
       "      <td>A0A397CNE3</td>\n",
       "      <td>predicted</td>\n",
       "      <td>1</td>\n",
       "      <td>112090</td>\n",
       "      <td>Uncharacterized protein</td>\n",
       "      <td>[]</td>\n",
       "      <td>[]</td>\n",
       "      <td>[]</td>\n",
       "    </tr>\n",
       "    <tr>\n",
       "      <th>3</th>\n",
       "      <td>A0A397EUB1</td>\n",
       "      <td>predicted</td>\n",
       "      <td>2</td>\n",
       "      <td>112090</td>\n",
       "      <td>Uncharacterized protein</td>\n",
       "      <td>[]</td>\n",
       "      <td>[]</td>\n",
       "      <td>[]</td>\n",
       "    </tr>\n",
       "    <tr>\n",
       "      <th>4</th>\n",
       "      <td>A0A412FCB4</td>\n",
       "      <td>predicted</td>\n",
       "      <td>2</td>\n",
       "      <td>47678</td>\n",
       "      <td>Peptidase C11</td>\n",
       "      <td>[IPR005077]</td>\n",
       "      <td>[PF03415]</td>\n",
       "      <td>[]</td>\n",
       "    </tr>\n",
       "    <tr>\n",
       "      <th>...</th>\n",
       "      <td>...</td>\n",
       "      <td>...</td>\n",
       "      <td>...</td>\n",
       "      <td>...</td>\n",
       "      <td>...</td>\n",
       "      <td>...</td>\n",
       "      <td>...</td>\n",
       "      <td>...</td>\n",
       "    </tr>\n",
       "    <tr>\n",
       "      <th>2999995</th>\n",
       "      <td>A0A2M7FS64</td>\n",
       "      <td>inferred from homology</td>\n",
       "      <td>1</td>\n",
       "      <td>1973953</td>\n",
       "      <td>Multidrug transporter</td>\n",
       "      <td>[IPR003423, IPR010131]</td>\n",
       "      <td>[PF02321]</td>\n",
       "      <td>[GO:0016021, GO:0005886, GO:0015562]</td>\n",
       "    </tr>\n",
       "    <tr>\n",
       "      <th>2999996</th>\n",
       "      <td>A0A2M7FTR1</td>\n",
       "      <td>predicted</td>\n",
       "      <td>1</td>\n",
       "      <td>1973953</td>\n",
       "      <td>DNA polymerase III subunit delta</td>\n",
       "      <td>[IPR027417]</td>\n",
       "      <td>[]</td>\n",
       "      <td>[]</td>\n",
       "    </tr>\n",
       "    <tr>\n",
       "      <th>2999997</th>\n",
       "      <td>A0A2M7FW47</td>\n",
       "      <td>predicted</td>\n",
       "      <td>1</td>\n",
       "      <td>1973953</td>\n",
       "      <td>Glutamate dehydrogenase</td>\n",
       "      <td>[IPR036291, IPR028971, IPR007780]</td>\n",
       "      <td>[PF05088]</td>\n",
       "      <td>[GO:0004352, GO:0019551]</td>\n",
       "    </tr>\n",
       "    <tr>\n",
       "      <th>2999998</th>\n",
       "      <td>A0A2M7V008</td>\n",
       "      <td>predicted</td>\n",
       "      <td>1</td>\n",
       "      <td>1974679</td>\n",
       "      <td>Uncharacterized protein</td>\n",
       "      <td>[]</td>\n",
       "      <td>[]</td>\n",
       "      <td>[]</td>\n",
       "    </tr>\n",
       "    <tr>\n",
       "      <th>2999999</th>\n",
       "      <td>A0A2M9HTZ3</td>\n",
       "      <td>predicted</td>\n",
       "      <td>1</td>\n",
       "      <td>2020331</td>\n",
       "      <td>Flavoprotein</td>\n",
       "      <td>[IPR036188, IPR023753]</td>\n",
       "      <td>[PF07992, PF07992]</td>\n",
       "      <td>[GO:0016491]</td>\n",
       "    </tr>\n",
       "  </tbody>\n",
       "</table>\n",
       "<p>3000000 rows × 8 columns</p>\n",
       "</div>"
      ],
      "text/plain": [
       "          accession                evidence  citations    taxid  \\\n",
       "0        A0A375IQD5               predicted          1   164546   \n",
       "1        A0A397C8L6               predicted          1   112090   \n",
       "2        A0A397CNE3               predicted          1   112090   \n",
       "3        A0A397EUB1               predicted          2   112090   \n",
       "4        A0A412FCB4               predicted          2    47678   \n",
       "...             ...                     ...        ...      ...   \n",
       "2999995  A0A2M7FS64  inferred from homology          1  1973953   \n",
       "2999996  A0A2M7FTR1               predicted          1  1973953   \n",
       "2999997  A0A2M7FW47               predicted          1  1973953   \n",
       "2999998  A0A2M7V008               predicted          1  1974679   \n",
       "2999999  A0A2M9HTZ3               predicted          1  2020331   \n",
       "\n",
       "                                                      name  \\\n",
       "0        Putative transcriptional regulator, HTH arsR f...   \n",
       "1                                  Uncharacterized protein   \n",
       "2                                  Uncharacterized protein   \n",
       "3                                  Uncharacterized protein   \n",
       "4                                            Peptidase C11   \n",
       "...                                                    ...   \n",
       "2999995                              Multidrug transporter   \n",
       "2999996                   DNA polymerase III subunit delta   \n",
       "2999997                            Glutamate dehydrogenase   \n",
       "2999998                            Uncharacterized protein   \n",
       "2999999                                       Flavoprotein   \n",
       "\n",
       "                                                  IPR                PFAM  \\\n",
       "0        [IPR011991, IPR001845, IPR036388, IPR036390]                  []   \n",
       "1                                                  []                  []   \n",
       "2                                                  []                  []   \n",
       "3                                                  []                  []   \n",
       "4                                         [IPR005077]           [PF03415]   \n",
       "...                                               ...                 ...   \n",
       "2999995                        [IPR003423, IPR010131]           [PF02321]   \n",
       "2999996                                   [IPR027417]                  []   \n",
       "2999997             [IPR036291, IPR028971, IPR007780]           [PF05088]   \n",
       "2999998                                            []                  []   \n",
       "2999999                        [IPR036188, IPR023753]  [PF07992, PF07992]   \n",
       "\n",
       "                                           GO  \n",
       "0                                [GO:0003700]  \n",
       "1                                [GO:0016021]  \n",
       "2                                          []  \n",
       "3                                          []  \n",
       "4                                          []  \n",
       "...                                       ...  \n",
       "2999995  [GO:0016021, GO:0005886, GO:0015562]  \n",
       "2999996                                    []  \n",
       "2999997              [GO:0004352, GO:0019551]  \n",
       "2999998                                    []  \n",
       "2999999                          [GO:0016491]  \n",
       "\n",
       "[3000000 rows x 8 columns]"
      ]
     },
     "execution_count": 6,
     "metadata": {},
     "output_type": "execute_result"
    }
   ],
   "source": [
    "df"
   ]
  },
  {
   "cell_type": "markdown",
   "metadata": {},
   "source": [
    "The distribution of the number of terms per gene (aggregating all sources) represents the amount of information we have on that gene.\n",
    "By splitting genes by type of evidence, we can see that most predicted genes have little information available."
   ]
  },
  {
   "cell_type": "code",
   "execution_count": 9,
   "metadata": {},
   "outputs": [
    {
     "data": {
      "text/plain": [
       "Text(0, 0.5, 'Genes')"
      ]
     },
     "execution_count": 9,
     "metadata": {},
     "output_type": "execute_result"
    },
    {
     "data": {
      "image/png": "[encoded data removed]",
      "text/plain": [
       "<Figure size 432x288 with 4 Axes>"
      ]
     },
     "metadata": {
      "needs_background": "light"
     },
     "output_type": "display_data"
    }
   ],
   "source": [
    "%matplotlib inline\n",
    "n_terms_df = df[['IPR', 'PFAM', 'GO']].applymap(len)\n",
    "n_terms_df.sum(axis=1).clip(upper=20).hist(bins=100, by=df.evidence)\n",
    "plt.xlabel(\"Total terms per gene\")\n",
    "plt.ylabel(\"Genes\")"
   ]
  },
  {
   "cell_type": "markdown",
   "metadata": {},
   "source": [
    "Quite a lot of genes have no associated terms"
   ]
  },
  {
   "cell_type": "code",
   "execution_count": 10,
   "metadata": {},
   "outputs": [
    {
     "name": "stdout",
     "output_type": "stream",
     "text": [
      "There are 1042274 34.74% genes with 0 GO terms\n",
      "There are 856748 28.56% genes with 0 PFAM terms\n",
      "There are 672420 22.41% genes with 0 IPR terms\n",
      "566631 (18.89%)genes have no terms at all.\n"
     ]
    }
   ],
   "source": [
    "for feat in ['GO', 'PFAM', 'IPR']:\n",
    "    n = (n_terms_df[feat] == 0).sum()\n",
    "    print(f\"There are {n} {100 * n/df.shape[0]:.2f}% genes with 0 {feat} terms\")\n",
    "    \n",
    "n = (n_terms_df.sum(axis=1) == 0).sum()\n",
    "print(f\"{n} ({100*n/df.shape[0]:.2f}%)genes have no terms at all.\")"
   ]
  },
  {
   "cell_type": "code",
   "execution_count": 11,
   "metadata": {},
   "outputs": [
    {
     "name": "stdout",
     "output_type": "stream",
     "text": [
      "There are 4229 16.89% strong evidence genes with 0 GO terms\n",
      "There are 3815 15.24% strong evidence genes with 0 PFAM terms\n",
      "There are 2222 8.87% strong evidence genes with 0 IPR terms\n"
     ]
    }
   ],
   "source": [
    "evid_mask = df.evidence.str.contains('evidence at')\n",
    "for feat in ['GO', 'PFAM', 'IPR']:\n",
    "    n = ((n_terms_df[feat] == 0) & evid_mask).sum()\n",
    "    print(f\"There are {n} {100 * n/evid_mask.sum():.2f}% strong evidence genes with 0 {feat} terms\")"
   ]
  },
  {
   "cell_type": "markdown",
   "metadata": {},
   "source": [
    "Protein and transcript evidence genes should be reliable and therefore more fit to use as a training set for predictive modeling. Unfortunately, there are much fewer of these."
   ]
  },
  {
   "cell_type": "code",
   "execution_count": 13,
   "metadata": {},
   "outputs": [
    {
     "data": {
      "text/plain": [
       "<AxesSubplot:ylabel='evidence'>"
      ]
     },
     "execution_count": 13,
     "metadata": {},
     "output_type": "execute_result"
    },
    {
     "data": {
      "image/png": "[encoded data removed]",
      "text/plain": [
       "<Figure size 432x288 with 1 Axes>"
      ]
     },
     "metadata": {
      "needs_background": "light"
     },
     "output_type": "display_data"
    }
   ],
   "source": [
    "%matplotlib inline\n",
    "df.groupby('evidence').count()['name'].plot(kind='barh')"
   ]
  },
  {
   "cell_type": "markdown",
   "metadata": {},
   "source": [
    "Citations are weakly correlated with the number of terms."
   ]
  },
  {
   "cell_type": "code",
   "execution_count": 14,
   "metadata": {},
   "outputs": [
    {
     "data": {
      "text/plain": [
       "Text(0.5, 0.98, '(0.045055798174250414, 9.847227706262234e-13)')"
      ]
     },
     "execution_count": 14,
     "metadata": {},
     "output_type": "execute_result"
    },
    {
     "data": {
      "image/png": "[encoded data removed]",
      "text/plain": [
       "<Figure size 432x432 with 3 Axes>"
      ]
     },
     "metadata": {
      "needs_background": "light"
     },
     "output_type": "display_data"
    }
   ],
   "source": [
    "%matplotlib inline\n",
    "import scipy.stats as ss\n",
    "sns.jointplot(x=np.log1p(n_terms_df['GO'][evid_mask]), y=np.log1p(df.citations[evid_mask]), kind='hex')\n",
    "plt.suptitle(ss.pearsonr(n_terms_df['GO'][evid_mask], df.citations[evid_mask]))"
   ]
  },
  {
   "cell_type": "markdown",
   "metadata": {},
   "source": [
    "Looking at the overall distribution of terms reveals that a few terms are extremely frequent, while most terms are seen only a few times. This seems especially true for IPR terms."
   ]
  },
  {
   "cell_type": "code",
   "execution_count": 15,
   "metadata": {},
   "outputs": [],
   "source": [
    "all_terms = {cat: get_all_terms_counts(df[cat]) for cat in ['IPR', 'PFAM', 'GO']}"
   ]
  },
  {
   "cell_type": "code",
   "execution_count": 17,
   "metadata": {},
   "outputs": [
    {
     "data": {
      "text/plain": [
       "Text(0.5, 0.98, 'Abundance of terms')"
      ]
     },
     "execution_count": 17,
     "metadata": {},
     "output_type": "execute_result"
    },
    {
     "data": {
      "image/png": "[encoded data removed]",
      "text/plain": [
       "<Figure size 432x288 with 3 Axes>"
      ]
     },
     "metadata": {
      "needs_background": "light"
     },
     "output_type": "display_data"
    }
   ],
   "source": [
    "%matplotlib inline\n",
    "fig, ax = plt.subplots(3, 1, sharex=True)\n",
    "for i, feat in enumerate(['GO', 'PFAM', 'IPR']):\n",
    "    ax[i].hist(all_terms[feat].values(), bins=50)\n",
    "    ax[i].set_ylabel(f\"N {feat} terms\")\n",
    "    ax[i].set_yscale('log')\n",
    "    \n",
    "\n",
    "plt.xlabel(\"Term occurences\")\n",
    "plt.suptitle(\"Abundance of terms\")"
   ]
  },
  {
   "cell_type": "code",
   "execution_count": 18,
   "metadata": {},
   "outputs": [
    {
     "data": {
      "text/plain": [
       "<seaborn.axisgrid.PairGrid at 0x7fc1904bf910>"
      ]
     },
     "execution_count": 18,
     "metadata": {},
     "output_type": "execute_result"
    },
    {
     "data": {
      "image/png": "[encoded data removed]",
      "text/plain": [
       "<Figure size 540x540 with 12 Axes>"
      ]
     },
     "metadata": {
      "needs_background": "light"
     },
     "output_type": "display_data"
    }
   ],
   "source": [
    "%matplotlib inline\n",
    "from scipy.stats import pearsonr\n",
    "\n",
    "def corrfunc(x, y, ax=None, **kws):\n",
    "    \"\"\"Plot the correlation coefficient in the top left hand corner of a plot.\"\"\"\n",
    "    r, p = pearsonr(x, y)\n",
    "    ax = ax or plt.gca()\n",
    "    ax.annotate(f'ρ = {r:.2f}, p={p:.1e}', xy=(.1, .9), xycoords=ax.transAxes)\n",
    "\n",
    "g = sns.pairplot(n_terms_df, kind='hex')\n",
    "g.map_lower(corrfunc)"
   ]
  },
  {
   "cell_type": "code",
   "execution_count": 19,
   "metadata": {},
   "outputs": [
    {
     "name": "stderr",
     "output_type": "stream",
     "text": [
      "/home/varogh/anaconda3/lib/python3.8/site-packages/scipy/sparse/_index.py:82: SparseEfficiencyWarning: Changing the sparsity structure of a csr_matrix is expensive. lil_matrix is more efficient.\n",
      "  self._set_intXint(row, col, x.flat[0])\n"
     ]
    }
   ],
   "source": [
    "# Matrix of co-occurence\n",
    "def terms_co_occ(vec: pd.Series) -> np.ndarray:\n",
    "    \"\"\"Given a series of list of terms, return their\n",
    "    matrix of co-occurences (in genes).\n",
    "    \"\"\"\n",
    "    terms = list(get_all_terms_counts(vec).keys())\n",
    "    term_ids = np.argsort(terms)\n",
    "    mapping = {k: v for k, v in zip(terms, term_ids)}\n",
    "    mat = csr_matrix((len(terms), len(terms)), dtype=int)\n",
    "    for gene in vec:\n",
    "        for t1, t2 in it.combinations(gene, 2):\n",
    "            mat[mapping[t1], mapping[t2]] += 1\n",
    "    return mat\n",
    "\n",
    "\n",
    "mat = terms_co_occ(df.IPR[evid_mask])\n",
    "# Clustering"
   ]
  },
  {
   "cell_type": "code",
   "execution_count": 20,
   "metadata": {},
   "outputs": [
    {
     "data": {
      "text/plain": [
       "<matplotlib.image.AxesImage at 0x7fc2321b1700>"
      ]
     },
     "execution_count": 20,
     "metadata": {},
     "output_type": "execute_result"
    },
    {
     "data": {
      "image/png": "[encoded data removed]",
      "text/plain": [
       "<Figure size 432x288 with 1 Axes>"
      ]
     },
     "metadata": {
      "needs_background": "light"
     },
     "output_type": "display_data"
    }
   ],
   "source": [
    "%matplotlib inline\n",
    "import scipy.cluster.hierarchy as sch\n",
    "\n",
    "\n",
    "\n",
    "def cluster_corr(corr_array, inplace=False):\n",
    "    \"\"\"\n",
    "    Rearranges the correlation matrix, corr_array, so that groups of highly \n",
    "    correlated variables are next to eachother \n",
    "    \n",
    "    Parameters\n",
    "    ----------\n",
    "    corr_array : pandas.DataFrame or numpy.ndarray\n",
    "        a NxN correlation matrix \n",
    "        \n",
    "    Returns\n",
    "    -------\n",
    "    pandas.DataFrame or numpy.ndarray\n",
    "        a NxN correlation matrix with the columns and rows rearranged\n",
    "    \"\"\"\n",
    "    pairwise_distances = sch.distance.pdist(corr_array)\n",
    "    linkage = sch.linkage(pairwise_distances, method='complete')\n",
    "    cluster_distance_threshold = pairwise_distances.max()/2\n",
    "    idx_to_cluster_array = sch.fcluster(linkage, cluster_distance_threshold, \n",
    "                                        criterion='distance')\n",
    "    idx = np.argsort(idx_to_cluster_array)\n",
    "    \n",
    "    if not inplace:\n",
    "        corr_array = corr_array.copy()\n",
    "    \n",
    "    if isinstance(corr_array, pd.DataFrame):\n",
    "        return corr_array.iloc[idx, :].T.iloc[idx, :]\n",
    "    return corr_array[idx, :][:, idx], idx\n",
    "\n",
    "filt_high = (mat.sum(axis=0) > 80).A1\n",
    "co_mat = cluster_corr(mat[filt_high, :][:, filt_high].toarray())[0]\n",
    "plt.imshow(np.log1p(co_mat), cmap='afmhot_r')"
   ]
  },
  {
   "cell_type": "code",
   "execution_count": 21,
   "metadata": {},
   "outputs": [
    {
     "data": {
      "text/plain": [
       "Text(0.5, 0.98, 'Network of terms co-occurence')"
      ]
     },
     "execution_count": 21,
     "metadata": {},
     "output_type": "execute_result"
    },
    {
     "data": {
      "image/png": "[encoded data removed]",
      "text/plain": [
       "<Figure size 432x288 with 1 Axes>"
      ]
     },
     "metadata": {},
     "output_type": "display_data"
    }
   ],
   "source": [
    "%matplotlib inline\n",
    "import networkx as nx\n",
    "#from sklearn.cluster import AgglomerativeClustering\n",
    "\n",
    "\n",
    "#   clusters = AgglomerativeClustering(3).fit_predict(m)\n",
    "nx.draw_kamada_kawai(\n",
    "    nx.Graph(co_mat),\n",
    "    with_labels=True,\n",
    "    node_size=400,\n",
    "    edge_color='grey',\n",
    "    linewidths=.1,\n",
    "    font_size=15,\n",
    "    alpha=0.3,\n",
    ")\n",
    "\n",
    "plt.suptitle(\"Network of terms co-occurence\")"
   ]
  },
  {
   "cell_type": "markdown",
   "metadata": {},
   "source": [
    "## Analysis of strong evidence dataset\n",
    "\n",
    "We filtered the entire Trembl dataset to keep all transcript- and protein-level evidence genes. These will be used as the training set. We also formatted tables in the long format for convenience."
   ]
  },
  {
   "cell_type": "code",
   "execution_count": 22,
   "metadata": {},
   "outputs": [],
   "source": [
    "import pandas as pd\n",
    "import numpy as np\n",
    "seqs = pd.read_csv('../data/train/sequences.tsv.gz', sep='\\t')['seq']"
   ]
  },
  {
   "cell_type": "code",
   "execution_count": 23,
   "metadata": {},
   "outputs": [
    {
     "data": {
      "text/plain": [
       "Text(0, 0.5, 'Genes')"
      ]
     },
     "execution_count": 23,
     "metadata": {},
     "output_type": "execute_result"
    },
    {
     "data": {
      "image/png": "[encoded data removed]",
      "text/plain": [
       "<Figure size 432x288 with 1 Axes>"
      ]
     },
     "metadata": {
      "needs_background": "light"
     },
     "output_type": "display_data"
    }
   ],
   "source": [
    "seqs.apply(len).plot(kind='hist', bins=100, logy=True)\n",
    "plt.xlabel('Amino-acid sequence length')\n",
    "plt.ylabel(\"Genes\")"
   ]
  },
  {
   "cell_type": "code",
   "execution_count": 24,
   "metadata": {},
   "outputs": [
    {
     "name": "stdout",
     "output_type": "stream",
     "text": [
      "95.73% sequences are shorter than 1000 aa.\n"
     ]
    }
   ],
   "source": [
    "print(\n",
    "    f\"{100*(seqs.apply(len) < 1000).sum() / len(seqs):.2f}% sequences are shorter than 1000 aa.\"\n",
    ") "
   ]
  },
  {
   "cell_type": "code",
   "execution_count": 25,
   "metadata": {},
   "outputs": [],
   "source": [
    "names = pd.read_csv('../data/train/names.tsv.gz', sep='\\t')"
   ]
  },
  {
   "cell_type": "markdown",
   "metadata": {},
   "source": [
    "2 genes have no valid names, but they both have other names. Some of those names are arbitrary IDs, we may have to filter that out."
   ]
  },
  {
   "cell_type": "code",
   "execution_count": 26,
   "metadata": {},
   "outputs": [
    {
     "data": {
      "text/html": [
       "<div>\n",
       "<style scoped>\n",
       "    .dataframe tbody tr th:only-of-type {\n",
       "        vertical-align: middle;\n",
       "    }\n",
       "\n",
       "    .dataframe tbody tr th {\n",
       "        vertical-align: top;\n",
       "    }\n",
       "\n",
       "    .dataframe thead th {\n",
       "        text-align: right;\n",
       "    }\n",
       "</style>\n",
       "<table border=\"1\" class=\"dataframe\">\n",
       "  <thead>\n",
       "    <tr style=\"text-align: right;\">\n",
       "      <th></th>\n",
       "      <th>id</th>\n",
       "      <th>name</th>\n",
       "    </tr>\n",
       "  </thead>\n",
       "  <tbody>\n",
       "    <tr>\n",
       "      <th>847619</th>\n",
       "      <td>Q9FKN5</td>\n",
       "      <td>NaN</td>\n",
       "    </tr>\n",
       "    <tr>\n",
       "      <th>1990028</th>\n",
       "      <td>Q9FL00</td>\n",
       "      <td>NaN</td>\n",
       "    </tr>\n",
       "  </tbody>\n",
       "</table>\n",
       "</div>"
      ],
      "text/plain": [
       "             id name\n",
       "847619   Q9FKN5  NaN\n",
       "1990028  Q9FL00  NaN"
      ]
     },
     "execution_count": 26,
     "metadata": {},
     "output_type": "execute_result"
    }
   ],
   "source": [
    "names.loc[names['name'].isnull()]\n"
   ]
  },
  {
   "cell_type": "code",
   "execution_count": 27,
   "metadata": {},
   "outputs": [
    {
     "data": {
      "text/html": [
       "<div>\n",
       "<style scoped>\n",
       "    .dataframe tbody tr th:only-of-type {\n",
       "        vertical-align: middle;\n",
       "    }\n",
       "\n",
       "    .dataframe tbody tr th {\n",
       "        vertical-align: top;\n",
       "    }\n",
       "\n",
       "    .dataframe thead th {\n",
       "        text-align: right;\n",
       "    }\n",
       "</style>\n",
       "<table border=\"1\" class=\"dataframe\">\n",
       "  <thead>\n",
       "    <tr style=\"text-align: right;\">\n",
       "      <th></th>\n",
       "      <th>id</th>\n",
       "      <th>name</th>\n",
       "    </tr>\n",
       "  </thead>\n",
       "  <tbody>\n",
       "    <tr>\n",
       "      <th>847616</th>\n",
       "      <td>Q9FKN5</td>\n",
       "      <td>Cardiomyopathy-associated protein</td>\n",
       "    </tr>\n",
       "    <tr>\n",
       "      <th>847617</th>\n",
       "      <td>Q9FKN5</td>\n",
       "      <td>Gb</td>\n",
       "    </tr>\n",
       "    <tr>\n",
       "      <th>847618</th>\n",
       "      <td>Q9FKN5</td>\n",
       "      <td>AAC35233.1</td>\n",
       "    </tr>\n",
       "    <tr>\n",
       "      <th>847619</th>\n",
       "      <td>Q9FKN5</td>\n",
       "      <td>NaN</td>\n",
       "    </tr>\n",
       "    <tr>\n",
       "      <th>1990026</th>\n",
       "      <td>Q9FL00</td>\n",
       "      <td>Emb</td>\n",
       "    </tr>\n",
       "    <tr>\n",
       "      <th>1990027</th>\n",
       "      <td>Q9FL00</td>\n",
       "      <td>CAB62433.1</td>\n",
       "    </tr>\n",
       "    <tr>\n",
       "      <th>1990028</th>\n",
       "      <td>Q9FL00</td>\n",
       "      <td>NaN</td>\n",
       "    </tr>\n",
       "    <tr>\n",
       "      <th>1990029</th>\n",
       "      <td>Q9FL00</td>\n",
       "      <td>Membrane-associated kinase regulator-like protein</td>\n",
       "    </tr>\n",
       "  </tbody>\n",
       "</table>\n",
       "</div>"
      ],
      "text/plain": [
       "             id                                               name\n",
       "847616   Q9FKN5                  Cardiomyopathy-associated protein\n",
       "847617   Q9FKN5                                                 Gb\n",
       "847618   Q9FKN5                                         AAC35233.1\n",
       "847619   Q9FKN5                                                NaN\n",
       "1990026  Q9FL00                                                Emb\n",
       "1990027  Q9FL00                                         CAB62433.1\n",
       "1990028  Q9FL00                                                NaN\n",
       "1990029  Q9FL00  Membrane-associated kinase regulator-like protein"
      ]
     },
     "execution_count": 27,
     "metadata": {},
     "output_type": "execute_result"
    }
   ],
   "source": [
    "no_name_ids = names.id[names.name.isnull()]\n",
    "names.loc[names.id.isin(no_name_ids), :]"
   ]
  },
  {
   "cell_type": "code",
   "execution_count": 28,
   "metadata": {},
   "outputs": [],
   "source": [
    "n_names_per_gene = names.groupby('id').apply(len)"
   ]
  },
  {
   "cell_type": "markdown",
   "metadata": {},
   "source": [
    "Most genes have <10 names, but some have up to 40"
   ]
  },
  {
   "cell_type": "code",
   "execution_count": 29,
   "metadata": {},
   "outputs": [
    {
     "data": {
      "text/plain": [
       "Text(0, 0.5, 'Genes')"
      ]
     },
     "execution_count": 29,
     "metadata": {},
     "output_type": "execute_result"
    },
    {
     "data": {
      "image/png": "[encoded data removed]",
      "text/plain": [
       "<Figure size 432x288 with 1 Axes>"
      ]
     },
     "metadata": {
      "needs_background": "light"
     },
     "output_type": "display_data"
    }
   ],
   "source": [
    "n_names_per_gene.hist(bins=50)\n",
    "plt.xlabel(\"Number of names\")\n",
    "plt.ylabel(\"Genes\")"
   ]
  },
  {
   "cell_type": "markdown",
   "metadata": {},
   "source": [
    "Genes that have high numbers of names have very similar names."
   ]
  },
  {
   "cell_type": "code",
   "execution_count": 30,
   "metadata": {},
   "outputs": [
    {
     "data": {
      "text/html": [
       "<div>\n",
       "<style scoped>\n",
       "    .dataframe tbody tr th:only-of-type {\n",
       "        vertical-align: middle;\n",
       "    }\n",
       "\n",
       "    .dataframe tbody tr th {\n",
       "        vertical-align: top;\n",
       "    }\n",
       "\n",
       "    .dataframe thead th {\n",
       "        text-align: right;\n",
       "    }\n",
       "</style>\n",
       "<table border=\"1\" class=\"dataframe\">\n",
       "  <thead>\n",
       "    <tr style=\"text-align: right;\">\n",
       "      <th></th>\n",
       "      <th>id</th>\n",
       "      <th>name</th>\n",
       "    </tr>\n",
       "  </thead>\n",
       "  <tbody>\n",
       "    <tr>\n",
       "      <th>175513</th>\n",
       "      <td>A5HUP3</td>\n",
       "      <td>Alpha-atrial natriuretic peptide</td>\n",
       "    </tr>\n",
       "    <tr>\n",
       "      <th>175514</th>\n",
       "      <td>A5HUP3</td>\n",
       "      <td>Alpha-hANP</td>\n",
       "    </tr>\n",
       "    <tr>\n",
       "      <th>175515</th>\n",
       "      <td>A5HUP3</td>\n",
       "      <td>Atrial natriuretic factor</td>\n",
       "    </tr>\n",
       "    <tr>\n",
       "      <th>175516</th>\n",
       "      <td>A5HUP3</td>\n",
       "      <td>Atrial natriuretic factor 1-33</td>\n",
       "    </tr>\n",
       "    <tr>\n",
       "      <th>175517</th>\n",
       "      <td>A5HUP3</td>\n",
       "      <td>Atrial natriuretic factor 3-33</td>\n",
       "    </tr>\n",
       "    <tr>\n",
       "      <th>...</th>\n",
       "      <td>...</td>\n",
       "      <td>...</td>\n",
       "    </tr>\n",
       "    <tr>\n",
       "      <th>2016727</th>\n",
       "      <td>Q9TQW1</td>\n",
       "      <td>Pro atrial natriuretic peptide 79-98</td>\n",
       "    </tr>\n",
       "    <tr>\n",
       "      <th>2016728</th>\n",
       "      <td>Q9TQW1</td>\n",
       "      <td>Pro atrial natriuretic peptide 95-126</td>\n",
       "    </tr>\n",
       "    <tr>\n",
       "      <th>2016729</th>\n",
       "      <td>Q9TQW1</td>\n",
       "      <td>Urodilatin</td>\n",
       "    </tr>\n",
       "    <tr>\n",
       "      <th>2016730</th>\n",
       "      <td>Q9TQW1</td>\n",
       "      <td>Vessel dilator</td>\n",
       "    </tr>\n",
       "    <tr>\n",
       "      <th>2016731</th>\n",
       "      <td>Q9TQW1</td>\n",
       "      <td>preproCDD-ANF</td>\n",
       "    </tr>\n",
       "  </tbody>\n",
       "</table>\n",
       "<p>492 rows × 2 columns</p>\n",
       "</div>"
      ],
      "text/plain": [
       "             id                                   name\n",
       "175513   A5HUP3       Alpha-atrial natriuretic peptide\n",
       "175514   A5HUP3                             Alpha-hANP\n",
       "175515   A5HUP3              Atrial natriuretic factor\n",
       "175516   A5HUP3         Atrial natriuretic factor 1-33\n",
       "175517   A5HUP3         Atrial natriuretic factor 3-33\n",
       "...         ...                                    ...\n",
       "2016727  Q9TQW1   Pro atrial natriuretic peptide 79-98\n",
       "2016728  Q9TQW1  Pro atrial natriuretic peptide 95-126\n",
       "2016729  Q9TQW1                             Urodilatin\n",
       "2016730  Q9TQW1                         Vessel dilator\n",
       "2016731  Q9TQW1                          preproCDD-ANF\n",
       "\n",
       "[492 rows x 2 columns]"
      ]
     },
     "execution_count": 30,
     "metadata": {},
     "output_type": "execute_result"
    }
   ],
   "source": [
    "many_names_genes = n_names_per_gene[n_names_per_gene == max(n_names_per_gene)]\n",
    "names.loc[names.id.isin(many_names_genes.index.values), :]"
   ]
  },
  {
   "cell_type": "code",
   "execution_count": 31,
   "metadata": {},
   "outputs": [
    {
     "data": {
      "text/plain": [
       "(1537809,)"
      ]
     },
     "execution_count": 31,
     "metadata": {},
     "output_type": "execute_result"
    }
   ],
   "source": [
    "seqs.shape"
   ]
  },
  {
   "cell_type": "code",
   "execution_count": 32,
   "metadata": {},
   "outputs": [
    {
     "data": {
      "text/plain": [
       "(1537809,)"
      ]
     },
     "execution_count": 32,
     "metadata": {},
     "output_type": "execute_result"
    }
   ],
   "source": [
    "n_names_per_gene.shape"
   ]
  },
  {
   "cell_type": "code",
   "execution_count": 33,
   "metadata": {},
   "outputs": [],
   "source": [
    "longest = names.head(5000).groupby('id')['name'].apply(lambda g: g[g.str.len() == g.str.len().max()])"
   ]
  },
  {
   "cell_type": "code",
   "execution_count": 34,
   "metadata": {},
   "outputs": [
    {
     "data": {
      "text/plain": [
       "Text(0, 0.5, 'Genes')"
      ]
     },
     "execution_count": 34,
     "metadata": {},
     "output_type": "execute_result"
    },
    {
     "data": {
      "image/png": "[encoded data removed]",
      "text/plain": [
       "<Figure size 432x288 with 1 Axes>"
      ]
     },
     "metadata": {
      "needs_background": "light"
     },
     "output_type": "display_data"
    }
   ],
   "source": [
    "%matplotlib inline\n",
    "longest.apply(len).hist(bins=100)\n",
    "plt.xlabel(\"Longest name length\")\n",
    "plt.ylabel(\"Genes\")"
   ]
  },
  {
   "cell_type": "code",
   "execution_count": 35,
   "metadata": {},
   "outputs": [
    {
     "data": {
      "text/plain": [
       "id          \n",
       "X2G6D2  2688    Mitogen-activated protein kinase\n",
       "X2KPD8  1170                Elongation factor 1a\n",
       "X4YJX3  4996                       C-type lectin\n",
       "X5DB11  4180                            CYP4M-84\n",
       "X5J5R3  3320         IgG1 heavy chain VDJ region\n",
       "Name: name, dtype: object"
      ]
     },
     "execution_count": 35,
     "metadata": {},
     "output_type": "execute_result"
    }
   ],
   "source": [
    "longest.tail()"
   ]
  },
  {
   "cell_type": "markdown",
   "metadata": {},
   "source": [
    "Inspecting the most frequent names reveal a few uninformative descriptors, such as \"3'ORF\", \"Uncharacterized protein\" or \"Predicted protein\".\n",
    "There are also very vague terms, like \"Negative factor\" or \"Putative secreted protein\""
   ]
  },
  {
   "cell_type": "code",
   "execution_count": 43,
   "metadata": {},
   "outputs": [],
   "source": [
    "unq_names, cnt_names = np.unique(names.loc[~names['name'].isnull(), 'name'], return_counts=True)"
   ]
  },
  {
   "cell_type": "code",
   "execution_count": 48,
   "metadata": {},
   "outputs": [
    {
     "data": {
      "text/plain": [
       "array(['N-acetylmuramic acid 6-phosphate lyase',\n",
       "       'N-acetylmuramic acid 6-phosphate hydrolase',\n",
       "       'N-acetylmuramic acid 6-phosphate etherase',\n",
       "       'Dinitrogenase reductase', 'Protein Wnt',\n",
       "       'Putative conserved plasma membrane protein',\n",
       "       'Glycosyltransferase', 'Nucleoprotein', 'Coat protein', 'P1D',\n",
       "       'P1C', 'Virion protein 3', 'Virion protein 1',\n",
       "       'Capsid protein VP3', 'Capsid protein VP1',\n",
       "       'Carboxylic ester hydrolase', 'Major surface glycoprotein G',\n",
       "       'Attachment glycoprotein G', 'RNA-directed RNA polymerase',\n",
       "       'Erythrocyte membrane protein 1', 'Nucleocapsid protein',\n",
       "       'Cytochrome P450', 'MHC class II antigen',\n",
       "       'Non-specific serine/threonine protein kinase', 'RNA helicase',\n",
       "       'Glycoprotein 120', 'Putative LOV domain-containing protein',\n",
       "       'Conotoxin', 'Odorant receptor', 'Genome polyprotein',\n",
       "       'Retropepsin', 'Protease', 'Putative secreted protein',\n",
       "       'MHC class I antigen', 'p7', 'SOR protein', 'p17',\n",
       "       'Virion infectivity factor', 'Predicted protein',\n",
       "       'Negative factor', \"3'ORF\", 'C-terminal core protein',\n",
       "       'Protein Nef', 'ATP-dependent protease La', 'Lon protease',\n",
       "       'Chaperone protein DnaK', 'HSP70', 'Heat shock 70 kDa protein',\n",
       "       'Heat shock protein 70', 'Uncharacterized protein'], dtype=object)"
      ]
     },
     "execution_count": 48,
     "metadata": {},
     "output_type": "execute_result"
    }
   ],
   "source": [
    "unq_names[np.argsort(cnt_names)][-50:]"
   ]
  }
 ],
 "metadata": {
  "interpreter": {
   "hash": "a08693814f17c016eb2a43e7aa0de7b483620c2e368d8731792b7eb95c513bcf"
  },
  "kernelspec": {
   "display_name": "Python 3.8.5 64-bit (conda)",
   "name": "python3"
  },
  "language_info": {
   "codemirror_mode": {
    "name": "ipython",
    "version": 3
   },
   "file_extension": ".py",
   "mimetype": "text/x-python",
   "name": "python",
   "nbconvert_exporter": "python",
   "pygments_lexer": "ipython3",
   "version": "3.8.5"
  }
 },
 "nbformat": 4,
 "nbformat_minor": 4
}