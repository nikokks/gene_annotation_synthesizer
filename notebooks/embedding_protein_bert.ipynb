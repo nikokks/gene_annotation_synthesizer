{
 "cells": [
  {
   "cell_type": "code",
   "execution_count": 1,
   "id": "8119694a",
   "metadata": {
    "scrolled": true
   },
   "outputs": [
    {
     "name": "stdout",
     "output_type": "stream",
     "text": [
      "Requirement already satisfied: tensorflow in /home/nikkokks/.local/lib/python3.6/site-packages (2.6.0)\n",
      "Requirement already satisfied: astunparse~=1.6.3 in /home/nikkokks/.local/lib/python3.6/site-packages (from tensorflow) (1.6.3)\n",
      "Requirement already satisfied: keras-preprocessing~=1.1.2 in /home/nikkokks/anaconda3/envs/TLA/lib/python3.6/site-packages (from tensorflow) (1.1.2)\n",
      "Requirement already satisfied: wrapt~=1.12.1 in /home/nikkokks/anaconda3/envs/TLA/lib/python3.6/site-packages (from tensorflow) (1.12.1)\n",
      "Requirement already satisfied: gast==0.4.0 in /home/nikkokks/.local/lib/python3.6/site-packages (from tensorflow) (0.4.0)\n",
      "Requirement already satisfied: tensorboard~=2.6 in /home/nikkokks/.local/lib/python3.6/site-packages (from tensorflow) (2.6.0)\n",
      "Requirement already satisfied: clang~=5.0 in /home/nikkokks/.local/lib/python3.6/site-packages (from tensorflow) (5.0)\n",
      "Requirement already satisfied: six~=1.15.0 in /home/nikkokks/.local/lib/python3.6/site-packages (from tensorflow) (1.15.0)\n",
      "Requirement already satisfied: absl-py~=0.10 in /home/nikkokks/anaconda3/envs/TLA/lib/python3.6/site-packages (from tensorflow) (0.13.0)\n",
      "Requirement already satisfied: opt-einsum~=3.3.0 in /home/nikkokks/anaconda3/envs/TLA/lib/python3.6/site-packages (from tensorflow) (3.3.0)\n",
      "Requirement already satisfied: typing-extensions~=3.7.4 in /home/nikkokks/.local/lib/python3.6/site-packages (from tensorflow) (3.7.4.3)\n",
      "Requirement already satisfied: protobuf>=3.9.2 in /home/nikkokks/anaconda3/envs/TLA/lib/python3.6/site-packages (from tensorflow) (3.17.3)\n",
      "Requirement already satisfied: google-pasta~=0.2 in /home/nikkokks/anaconda3/envs/TLA/lib/python3.6/site-packages (from tensorflow) (0.2.0)\n",
      "Requirement already satisfied: h5py~=3.1.0 in /home/nikkokks/.local/lib/python3.6/site-packages (from tensorflow) (3.1.0)\n",
      "Requirement already satisfied: numpy~=1.19.2 in /home/nikkokks/anaconda3/envs/TLA/lib/python3.6/site-packages (from tensorflow) (1.19.5)\n",
      "Requirement already satisfied: termcolor~=1.1.0 in /home/nikkokks/anaconda3/envs/TLA/lib/python3.6/site-packages (from tensorflow) (1.1.0)\n",
      "Requirement already satisfied: tensorflow-estimator~=2.6 in /home/nikkokks/.local/lib/python3.6/site-packages (from tensorflow) (2.6.0)\n",
      "Requirement already satisfied: keras~=2.6 in /home/nikkokks/.local/lib/python3.6/site-packages (from tensorflow) (2.6.0)\n",
      "Requirement already satisfied: grpcio<2.0,>=1.37.0 in /home/nikkokks/.local/lib/python3.6/site-packages (from tensorflow) (1.39.0)\n",
      "Requirement already satisfied: flatbuffers~=1.12.0 in /home/nikkokks/.local/lib/python3.6/site-packages (from tensorflow) (1.12)\n",
      "Requirement already satisfied: wheel~=0.35 in /home/nikkokks/anaconda3/envs/TLA/lib/python3.6/site-packages (from tensorflow) (0.36.2)\n",
      "Requirement already satisfied: cached-property in /home/nikkokks/anaconda3/envs/TLA/lib/python3.6/site-packages (from h5py~=3.1.0->tensorflow) (1.5.2)\n",
      "Requirement already satisfied: markdown>=2.6.8 in /home/nikkokks/anaconda3/envs/TLA/lib/python3.6/site-packages (from tensorboard~=2.6->tensorflow) (3.3.4)\n",
      "Requirement already satisfied: requests<3,>=2.21.0 in /home/nikkokks/anaconda3/envs/TLA/lib/python3.6/site-packages (from tensorboard~=2.6->tensorflow) (2.26.0)\n",
      "Requirement already satisfied: werkzeug>=0.11.15 in /home/nikkokks/anaconda3/envs/TLA/lib/python3.6/site-packages (from tensorboard~=2.6->tensorflow) (2.0.1)\n",
      "Requirement already satisfied: google-auth<2,>=1.6.3 in /home/nikkokks/anaconda3/envs/TLA/lib/python3.6/site-packages (from tensorboard~=2.6->tensorflow) (1.34.0)\n",
      "Requirement already satisfied: setuptools>=41.0.0 in /home/nikkokks/anaconda3/envs/TLA/lib/python3.6/site-packages (from tensorboard~=2.6->tensorflow) (57.4.0)\n",
      "Requirement already satisfied: tensorboard-plugin-wit>=1.6.0 in /home/nikkokks/anaconda3/envs/TLA/lib/python3.6/site-packages (from tensorboard~=2.6->tensorflow) (1.8.0)\n",
      "Requirement already satisfied: tensorboard-data-server<0.7.0,>=0.6.0 in /home/nikkokks/anaconda3/envs/TLA/lib/python3.6/site-packages (from tensorboard~=2.6->tensorflow) (0.6.1)\n",
      "Requirement already satisfied: google-auth-oauthlib<0.5,>=0.4.1 in /home/nikkokks/anaconda3/envs/TLA/lib/python3.6/site-packages (from tensorboard~=2.6->tensorflow) (0.4.4)\n",
      "Requirement already satisfied: rsa<5,>=3.1.4 in /home/nikkokks/anaconda3/envs/TLA/lib/python3.6/site-packages (from google-auth<2,>=1.6.3->tensorboard~=2.6->tensorflow) (4.7.2)\n",
      "Requirement already satisfied: pyasn1-modules>=0.2.1 in /home/nikkokks/anaconda3/envs/TLA/lib/python3.6/site-packages (from google-auth<2,>=1.6.3->tensorboard~=2.6->tensorflow) (0.2.8)\n",
      "Requirement already satisfied: cachetools<5.0,>=2.0.0 in /home/nikkokks/anaconda3/envs/TLA/lib/python3.6/site-packages (from google-auth<2,>=1.6.3->tensorboard~=2.6->tensorflow) (4.2.2)\n",
      "Requirement already satisfied: requests-oauthlib>=0.7.0 in /home/nikkokks/anaconda3/envs/TLA/lib/python3.6/site-packages (from google-auth-oauthlib<0.5,>=0.4.1->tensorboard~=2.6->tensorflow) (1.3.0)\n",
      "Requirement already satisfied: importlib-metadata in /home/nikkokks/anaconda3/envs/TLA/lib/python3.6/site-packages (from markdown>=2.6.8->tensorboard~=2.6->tensorflow) (4.6.1)\n",
      "Requirement already satisfied: pyasn1<0.5.0,>=0.4.6 in /home/nikkokks/anaconda3/envs/TLA/lib/python3.6/site-packages (from pyasn1-modules>=0.2.1->google-auth<2,>=1.6.3->tensorboard~=2.6->tensorflow) (0.4.8)\n",
      "Requirement already satisfied: idna<4,>=2.5 in /home/nikkokks/anaconda3/envs/TLA/lib/python3.6/site-packages (from requests<3,>=2.21.0->tensorboard~=2.6->tensorflow) (3.2)\n",
      "Requirement already satisfied: urllib3<1.27,>=1.21.1 in /home/nikkokks/anaconda3/envs/TLA/lib/python3.6/site-packages (from requests<3,>=2.21.0->tensorboard~=2.6->tensorflow) (1.26.6)\n",
      "Requirement already satisfied: certifi>=2017.4.17 in /home/nikkokks/anaconda3/envs/TLA/lib/python3.6/site-packages (from requests<3,>=2.21.0->tensorboard~=2.6->tensorflow) (2021.5.30)\n",
      "Requirement already satisfied: charset-normalizer~=2.0.0 in /home/nikkokks/anaconda3/envs/TLA/lib/python3.6/site-packages (from requests<3,>=2.21.0->tensorboard~=2.6->tensorflow) (2.0.3)\n",
      "Requirement already satisfied: oauthlib>=3.0.0 in /home/nikkokks/anaconda3/envs/TLA/lib/python3.6/site-packages (from requests-oauthlib>=0.7.0->google-auth-oauthlib<0.5,>=0.4.1->tensorboard~=2.6->tensorflow) (3.1.1)\n",
      "Requirement already satisfied: dataclasses in /home/nikkokks/anaconda3/envs/TLA/lib/python3.6/site-packages (from werkzeug>=0.11.15->tensorboard~=2.6->tensorflow) (0.8)\n",
      "Requirement already satisfied: zipp>=0.5 in /home/nikkokks/anaconda3/envs/TLA/lib/python3.6/site-packages (from importlib-metadata->markdown>=2.6.8->tensorboard~=2.6->tensorflow) (3.5.0)\n",
      "Requirement already satisfied: pip in /home/nikkokks/anaconda3/envs/TLA/lib/python3.6/site-packages (21.2.4)\n",
      "Requirement already satisfied: protein-bert in /home/nikkokks/anaconda3/envs/TLA/lib/python3.6/site-packages (1.0.1)\n",
      "Requirement already satisfied: lxml in /home/nikkokks/anaconda3/envs/TLA/lib/python3.6/site-packages (from protein-bert) (4.6.3)\n",
      "Requirement already satisfied: tensorflow-addons in /home/nikkokks/anaconda3/envs/TLA/lib/python3.6/site-packages (from protein-bert) (0.13.0)\n",
      "Requirement already satisfied: numpy in /home/nikkokks/anaconda3/envs/TLA/lib/python3.6/site-packages (from protein-bert) (1.19.5)\n",
      "Requirement already satisfied: tensorflow in /home/nikkokks/.local/lib/python3.6/site-packages (from protein-bert) (2.6.0)\n",
      "Requirement already satisfied: pyfaidx in /home/nikkokks/anaconda3/envs/TLA/lib/python3.6/site-packages/pyfaidx-0.6.1-py3.6.egg (from protein-bert) (0.6.1)\n",
      "Requirement already satisfied: h5py in /home/nikkokks/.local/lib/python3.6/site-packages (from protein-bert) (3.1.0)\n",
      "Requirement already satisfied: pandas in /home/nikkokks/anaconda3/envs/TLA/lib/python3.6/site-packages (from protein-bert) (1.1.5)\n",
      "Requirement already satisfied: cached-property in /home/nikkokks/anaconda3/envs/TLA/lib/python3.6/site-packages (from h5py->protein-bert) (1.5.2)\n",
      "Requirement already satisfied: python-dateutil>=2.7.3 in /home/nikkokks/anaconda3/envs/TLA/lib/python3.6/site-packages (from pandas->protein-bert) (2.8.2)\n",
      "Requirement already satisfied: pytz>=2017.2 in /home/nikkokks/anaconda3/envs/TLA/lib/python3.6/site-packages (from pandas->protein-bert) (2021.1)\n",
      "Requirement already satisfied: six>=1.5 in /home/nikkokks/.local/lib/python3.6/site-packages (from python-dateutil>=2.7.3->pandas->protein-bert) (1.15.0)\n",
      "Requirement already satisfied: setuptools>=0.7 in /home/nikkokks/anaconda3/envs/TLA/lib/python3.6/site-packages (from pyfaidx->protein-bert) (57.4.0)\n",
      "Requirement already satisfied: typing-extensions~=3.7.4 in /home/nikkokks/.local/lib/python3.6/site-packages (from tensorflow->protein-bert) (3.7.4.3)\n",
      "Requirement already satisfied: keras~=2.6 in /home/nikkokks/.local/lib/python3.6/site-packages (from tensorflow->protein-bert) (2.6.0)\n",
      "Requirement already satisfied: keras-preprocessing~=1.1.2 in /home/nikkokks/anaconda3/envs/TLA/lib/python3.6/site-packages (from tensorflow->protein-bert) (1.1.2)\n",
      "Requirement already satisfied: absl-py~=0.10 in /home/nikkokks/anaconda3/envs/TLA/lib/python3.6/site-packages (from tensorflow->protein-bert) (0.13.0)\n"
     ]
    },
    {
     "name": "stdout",
     "output_type": "stream",
     "text": [
      "Requirement already satisfied: protobuf>=3.9.2 in /home/nikkokks/anaconda3/envs/TLA/lib/python3.6/site-packages (from tensorflow->protein-bert) (3.17.3)\n",
      "Requirement already satisfied: termcolor~=1.1.0 in /home/nikkokks/anaconda3/envs/TLA/lib/python3.6/site-packages (from tensorflow->protein-bert) (1.1.0)\n",
      "Requirement already satisfied: astunparse~=1.6.3 in /home/nikkokks/.local/lib/python3.6/site-packages (from tensorflow->protein-bert) (1.6.3)\n",
      "Requirement already satisfied: opt-einsum~=3.3.0 in /home/nikkokks/anaconda3/envs/TLA/lib/python3.6/site-packages (from tensorflow->protein-bert) (3.3.0)\n",
      "Requirement already satisfied: wheel~=0.35 in /home/nikkokks/anaconda3/envs/TLA/lib/python3.6/site-packages (from tensorflow->protein-bert) (0.36.2)\n",
      "Requirement already satisfied: gast==0.4.0 in /home/nikkokks/.local/lib/python3.6/site-packages (from tensorflow->protein-bert) (0.4.0)\n",
      "Requirement already satisfied: clang~=5.0 in /home/nikkokks/.local/lib/python3.6/site-packages (from tensorflow->protein-bert) (5.0)\n",
      "Requirement already satisfied: wrapt~=1.12.1 in /home/nikkokks/anaconda3/envs/TLA/lib/python3.6/site-packages (from tensorflow->protein-bert) (1.12.1)\n",
      "Requirement already satisfied: google-pasta~=0.2 in /home/nikkokks/anaconda3/envs/TLA/lib/python3.6/site-packages (from tensorflow->protein-bert) (0.2.0)\n",
      "Requirement already satisfied: tensorflow-estimator~=2.6 in /home/nikkokks/.local/lib/python3.6/site-packages (from tensorflow->protein-bert) (2.6.0)\n",
      "Requirement already satisfied: tensorboard~=2.6 in /home/nikkokks/.local/lib/python3.6/site-packages (from tensorflow->protein-bert) (2.6.0)\n",
      "Requirement already satisfied: grpcio<2.0,>=1.37.0 in /home/nikkokks/.local/lib/python3.6/site-packages (from tensorflow->protein-bert) (1.39.0)\n",
      "Requirement already satisfied: flatbuffers~=1.12.0 in /home/nikkokks/.local/lib/python3.6/site-packages (from tensorflow->protein-bert) (1.12)\n",
      "Requirement already satisfied: tensorboard-data-server<0.7.0,>=0.6.0 in /home/nikkokks/anaconda3/envs/TLA/lib/python3.6/site-packages (from tensorboard~=2.6->tensorflow->protein-bert) (0.6.1)\n",
      "Requirement already satisfied: werkzeug>=0.11.15 in /home/nikkokks/anaconda3/envs/TLA/lib/python3.6/site-packages (from tensorboard~=2.6->tensorflow->protein-bert) (2.0.1)\n",
      "Requirement already satisfied: markdown>=2.6.8 in /home/nikkokks/anaconda3/envs/TLA/lib/python3.6/site-packages (from tensorboard~=2.6->tensorflow->protein-bert) (3.3.4)\n",
      "Requirement already satisfied: tensorboard-plugin-wit>=1.6.0 in /home/nikkokks/anaconda3/envs/TLA/lib/python3.6/site-packages (from tensorboard~=2.6->tensorflow->protein-bert) (1.8.0)\n",
      "Requirement already satisfied: google-auth-oauthlib<0.5,>=0.4.1 in /home/nikkokks/anaconda3/envs/TLA/lib/python3.6/site-packages (from tensorboard~=2.6->tensorflow->protein-bert) (0.4.4)\n",
      "Requirement already satisfied: requests<3,>=2.21.0 in /home/nikkokks/anaconda3/envs/TLA/lib/python3.6/site-packages (from tensorboard~=2.6->tensorflow->protein-bert) (2.26.0)\n",
      "Requirement already satisfied: google-auth<2,>=1.6.3 in /home/nikkokks/anaconda3/envs/TLA/lib/python3.6/site-packages (from tensorboard~=2.6->tensorflow->protein-bert) (1.34.0)\n",
      "Requirement already satisfied: cachetools<5.0,>=2.0.0 in /home/nikkokks/anaconda3/envs/TLA/lib/python3.6/site-packages (from google-auth<2,>=1.6.3->tensorboard~=2.6->tensorflow->protein-bert) (4.2.2)\n",
      "Requirement already satisfied: pyasn1-modules>=0.2.1 in /home/nikkokks/anaconda3/envs/TLA/lib/python3.6/site-packages (from google-auth<2,>=1.6.3->tensorboard~=2.6->tensorflow->protein-bert) (0.2.8)\n",
      "Requirement already satisfied: rsa<5,>=3.1.4 in /home/nikkokks/anaconda3/envs/TLA/lib/python3.6/site-packages (from google-auth<2,>=1.6.3->tensorboard~=2.6->tensorflow->protein-bert) (4.7.2)\n",
      "Requirement already satisfied: requests-oauthlib>=0.7.0 in /home/nikkokks/anaconda3/envs/TLA/lib/python3.6/site-packages (from google-auth-oauthlib<0.5,>=0.4.1->tensorboard~=2.6->tensorflow->protein-bert) (1.3.0)\n",
      "Requirement already satisfied: importlib-metadata in /home/nikkokks/anaconda3/envs/TLA/lib/python3.6/site-packages (from markdown>=2.6.8->tensorboard~=2.6->tensorflow->protein-bert) (4.6.1)\n",
      "Requirement already satisfied: pyasn1<0.5.0,>=0.4.6 in /home/nikkokks/anaconda3/envs/TLA/lib/python3.6/site-packages (from pyasn1-modules>=0.2.1->google-auth<2,>=1.6.3->tensorboard~=2.6->tensorflow->protein-bert) (0.4.8)\n",
      "Requirement already satisfied: idna<4,>=2.5 in /home/nikkokks/anaconda3/envs/TLA/lib/python3.6/site-packages (from requests<3,>=2.21.0->tensorboard~=2.6->tensorflow->protein-bert) (3.2)\n",
      "Requirement already satisfied: charset-normalizer~=2.0.0 in /home/nikkokks/anaconda3/envs/TLA/lib/python3.6/site-packages (from requests<3,>=2.21.0->tensorboard~=2.6->tensorflow->protein-bert) (2.0.3)\n",
      "Requirement already satisfied: certifi>=2017.4.17 in /home/nikkokks/anaconda3/envs/TLA/lib/python3.6/site-packages (from requests<3,>=2.21.0->tensorboard~=2.6->tensorflow->protein-bert) (2021.5.30)\n",
      "Requirement already satisfied: urllib3<1.27,>=1.21.1 in /home/nikkokks/anaconda3/envs/TLA/lib/python3.6/site-packages (from requests<3,>=2.21.0->tensorboard~=2.6->tensorflow->protein-bert) (1.26.6)\n",
      "Requirement already satisfied: oauthlib>=3.0.0 in /home/nikkokks/anaconda3/envs/TLA/lib/python3.6/site-packages (from requests-oauthlib>=0.7.0->google-auth-oauthlib<0.5,>=0.4.1->tensorboard~=2.6->tensorflow->protein-bert) (3.1.1)\n",
      "Requirement already satisfied: dataclasses in /home/nikkokks/anaconda3/envs/TLA/lib/python3.6/site-packages (from werkzeug>=0.11.15->tensorboard~=2.6->tensorflow->protein-bert) (0.8)\n",
      "Requirement already satisfied: zipp>=0.5 in /home/nikkokks/anaconda3/envs/TLA/lib/python3.6/site-packages (from importlib-metadata->markdown>=2.6.8->tensorboard~=2.6->tensorflow->protein-bert) (3.5.0)\n",
      "Requirement already satisfied: typeguard>=2.7 in /home/nikkokks/anaconda3/envs/TLA/lib/python3.6/site-packages (from tensorflow-addons->protein-bert) (2.12.1)\n"
     ]
    }
   ],
   "source": [
    "# installation of dependencies\n",
    "!pip install tensorflow --user --upgrade\n",
    "!pip install --upgrade pip\n",
    "!pip install protein-bert"
   ]
  },
  {
   "cell_type": "code",
   "execution_count": 10,
   "id": "dbfdc823",
   "metadata": {},
   "outputs": [
    {
     "name": "stdout",
     "output_type": "stream",
     "text": [
      "mkdir: cannot create directory ‘/home/nikkokks/protein_models/’: File exists\r\n"
     ]
    }
   ],
   "source": [
    "# creation of dir for download models\n",
    "!mkdir ~/protein_models/"
   ]
  },
  {
   "cell_type": "code",
   "execution_count": 11,
   "id": "f156b7c9",
   "metadata": {},
   "outputs": [
    {
     "name": "stdout",
     "output_type": "stream",
     "text": [
      "demo.xml  demo.xml.gz  names.tsv  sequences.tsv  tokenizer_folder  txt_files\r\n"
     ]
    }
   ],
   "source": [
    "!ls \"../data/\""
   ]
  },
  {
   "cell_type": "code",
   "execution_count": 12,
   "id": "19f49a1f",
   "metadata": {},
   "outputs": [],
   "source": [
    "import os\n",
    "\n",
    "import pandas as pd\n",
    "from IPython.display import display\n",
    "\n",
    "from tensorflow import keras\n",
    "\n",
    "from sklearn.model_selection import train_test_split\n",
    "\n",
    "from proteinbert import OutputType, OutputSpec, FinetuningModelGenerator, load_pretrained_model, finetune, evaluate_by_len\n",
    "from proteinbert.conv_and_global_attention_model import get_model_with_hidden_layers_as_outputs\n"
   ]
  },
  {
   "cell_type": "code",
   "execution_count": 13,
   "id": "13e50ec8",
   "metadata": {},
   "outputs": [],
   "source": [
    "df = pd.read_csv('../data/sequences.tsv',sep='\\t')"
   ]
  },
  {
   "cell_type": "code",
   "execution_count": 14,
   "id": "4bc9dee8",
   "metadata": {},
   "outputs": [
    {
     "data": {
      "text/html": [
       "<div>\n",
       "<style scoped>\n",
       "    .dataframe tbody tr th:only-of-type {\n",
       "        vertical-align: middle;\n",
       "    }\n",
       "\n",
       "    .dataframe tbody tr th {\n",
       "        vertical-align: top;\n",
       "    }\n",
       "\n",
       "    .dataframe thead th {\n",
       "        text-align: right;\n",
       "    }\n",
       "</style>\n",
       "<table border=\"1\" class=\"dataframe\">\n",
       "  <thead>\n",
       "    <tr style=\"text-align: right;\">\n",
       "      <th></th>\n",
       "      <th>id</th>\n",
       "      <th>seq</th>\n",
       "    </tr>\n",
       "  </thead>\n",
       "  <tbody>\n",
       "    <tr>\n",
       "      <th>0</th>\n",
       "      <td>Q5C5Z0</td>\n",
       "      <td>FTPYLLASTTAFDSLSEEEAMRDEAKTKSLQDVQGGHWDSRWQLNS...</td>\n",
       "    </tr>\n",
       "    <tr>\n",
       "      <th>1</th>\n",
       "      <td>Q851Q0</td>\n",
       "      <td>MAANGEGGGDPAARRRWDLTNKGAESIPMVKEAVEMSTDEESDGVV...</td>\n",
       "    </tr>\n",
       "    <tr>\n",
       "      <th>2</th>\n",
       "      <td>Q5T178</td>\n",
       "      <td>MSHKQIYYSDKYDDEEFEYRHVMLPKDIAKLVPKTHLMSESEWRNL...</td>\n",
       "    </tr>\n",
       "    <tr>\n",
       "      <th>3</th>\n",
       "      <td>D9CI74</td>\n",
       "      <td>RWQWNATVGPLVSRPGRQGDWGYVNTDGIGLLEYLEFCEDLGLEGI...</td>\n",
       "    </tr>\n",
       "    <tr>\n",
       "      <th>4</th>\n",
       "      <td>A0A0K8RPP3</td>\n",
       "      <td>WRKPKGIDCRVRRRFKGTVLTPKIGYGTDKKTRNRLPSGYYKVVVN...</td>\n",
       "    </tr>\n",
       "    <tr>\n",
       "      <th>...</th>\n",
       "      <td>...</td>\n",
       "      <td>...</td>\n",
       "    </tr>\n",
       "    <tr>\n",
       "      <th>1537804</th>\n",
       "      <td>I6DV31</td>\n",
       "      <td>MGKIIGIDLGTTNSCVAIMDGTTPRVLENAEGDRTTPSIIAYTQDG...</td>\n",
       "    </tr>\n",
       "    <tr>\n",
       "      <th>1537805</th>\n",
       "      <td>A0A226EPG7</td>\n",
       "      <td>MGISRDHYHKRRATGGKRALLRKKRKFELGRPAANTKLGPRRVHTV...</td>\n",
       "    </tr>\n",
       "    <tr>\n",
       "      <th>1537806</th>\n",
       "      <td>M1F4Y3</td>\n",
       "      <td>MSKPRLTYFAGRGFAEVTRLALNAAQIEYDDVYLRTREEFLQLITD...</td>\n",
       "    </tr>\n",
       "    <tr>\n",
       "      <th>1537807</th>\n",
       "      <td>B6SZL1</td>\n",
       "      <td>MAADERDRERWILPGATALVTGGSKGIGHAIVEELAALGARVHTCS...</td>\n",
       "    </tr>\n",
       "    <tr>\n",
       "      <th>1537808</th>\n",
       "      <td>A0A248XAI8</td>\n",
       "      <td>MGGKWSKSSLAGWPKVRERITQTPPAAEGVGAASQDLDRRGAITSN...</td>\n",
       "    </tr>\n",
       "  </tbody>\n",
       "</table>\n",
       "<p>1537809 rows × 2 columns</p>\n",
       "</div>"
      ],
      "text/plain": [
       "                 id                                                seq\n",
       "0            Q5C5Z0  FTPYLLASTTAFDSLSEEEAMRDEAKTKSLQDVQGGHWDSRWQLNS...\n",
       "1            Q851Q0  MAANGEGGGDPAARRRWDLTNKGAESIPMVKEAVEMSTDEESDGVV...\n",
       "2            Q5T178  MSHKQIYYSDKYDDEEFEYRHVMLPKDIAKLVPKTHLMSESEWRNL...\n",
       "3            D9CI74  RWQWNATVGPLVSRPGRQGDWGYVNTDGIGLLEYLEFCEDLGLEGI...\n",
       "4        A0A0K8RPP3  WRKPKGIDCRVRRRFKGTVLTPKIGYGTDKKTRNRLPSGYYKVVVN...\n",
       "...             ...                                                ...\n",
       "1537804      I6DV31  MGKIIGIDLGTTNSCVAIMDGTTPRVLENAEGDRTTPSIIAYTQDG...\n",
       "1537805  A0A226EPG7  MGISRDHYHKRRATGGKRALLRKKRKFELGRPAANTKLGPRRVHTV...\n",
       "1537806      M1F4Y3  MSKPRLTYFAGRGFAEVTRLALNAAQIEYDDVYLRTREEFLQLITD...\n",
       "1537807      B6SZL1  MAADERDRERWILPGATALVTGGSKGIGHAIVEELAALGARVHTCS...\n",
       "1537808  A0A248XAI8  MGGKWSKSSLAGWPKVRERITQTPPAAEGVGAASQDLDRRGAITSN...\n",
       "\n",
       "[1537809 rows x 2 columns]"
      ]
     },
     "execution_count": 14,
     "metadata": {},
     "output_type": "execute_result"
    }
   ],
   "source": [
    "df"
   ]
  },
  {
   "cell_type": "code",
   "execution_count": 47,
   "id": "9c357d83",
   "metadata": {},
   "outputs": [],
   "source": [
    "pretrained_model_generator, input_encoder = load_pretrained_model()\n",
    "\n",
    "\n",
    "model = pretrained_model_generator.create_model(512)\n",
    "# model = pretrained_model_generator.create_model_function(512,100000,0)\n",
    "model = get_model_with_hidden_layers_as_outputs(model)\n",
    "a = model.predict(input_encoder.encode_X(df['seq'].iloc[:4].values,512))"
   ]
  }
 ],
 "metadata": {
  "kernelspec": {
   "display_name": "Python 3",
   "language": "python",
   "name": "python3"
  },
  "language_info": {
   "codemirror_mode": {
    "name": "ipython",
    "version": 3
   },
   "file_extension": ".py",
   "mimetype": "text/x-python",
   "name": "python",
   "nbconvert_exporter": "python",
   "pygments_lexer": "ipython3",
   "version": "3.6.6"
  }
 },
 "nbformat": 4,
 "nbformat_minor": 5
}
