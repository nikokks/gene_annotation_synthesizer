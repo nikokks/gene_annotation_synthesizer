{
 "cells": [
  {
   "cell_type": "code",
   "execution_count": 1,
   "id": "8119694a",
   "metadata": {
    "scrolled": true
   },
   "outputs": [
    {
     "name": "stdout",
     "output_type": "stream",
     "text": [
      "Requirement already satisfied: tensorflow in /home/nikkokks/.local/lib/python3.6/site-packages (2.6.0)\n",
      "Requirement already satisfied: astunparse~=1.6.3 in /home/nikkokks/.local/lib/python3.6/site-packages (from tensorflow) (1.6.3)\n",
      "Requirement already satisfied: google-pasta~=0.2 in /home/nikkokks/anaconda3/envs/TLA/lib/python3.6/site-packages (from tensorflow) (0.2.0)\n",
      "Requirement already satisfied: tensorboard~=2.6 in /home/nikkokks/.local/lib/python3.6/site-packages (from tensorflow) (2.6.0)\n",
      "Requirement already satisfied: absl-py~=0.10 in /home/nikkokks/anaconda3/envs/TLA/lib/python3.6/site-packages (from tensorflow) (0.13.0)\n",
      "Requirement already satisfied: wrapt~=1.12.1 in /home/nikkokks/anaconda3/envs/TLA/lib/python3.6/site-packages (from tensorflow) (1.12.1)\n",
      "Requirement already satisfied: wheel~=0.35 in /home/nikkokks/anaconda3/envs/TLA/lib/python3.6/site-packages (from tensorflow) (0.36.2)\n",
      "Requirement already satisfied: grpcio<2.0,>=1.37.0 in /home/nikkokks/.local/lib/python3.6/site-packages (from tensorflow) (1.39.0)\n",
      "Requirement already satisfied: protobuf>=3.9.2 in /home/nikkokks/anaconda3/envs/TLA/lib/python3.6/site-packages (from tensorflow) (3.17.3)\n",
      "Requirement already satisfied: opt-einsum~=3.3.0 in /home/nikkokks/anaconda3/envs/TLA/lib/python3.6/site-packages (from tensorflow) (3.3.0)\n",
      "Requirement already satisfied: flatbuffers~=1.12.0 in /home/nikkokks/.local/lib/python3.6/site-packages (from tensorflow) (1.12)\n",
      "Requirement already satisfied: gast==0.4.0 in /home/nikkokks/.local/lib/python3.6/site-packages (from tensorflow) (0.4.0)\n",
      "Requirement already satisfied: typing-extensions~=3.7.4 in /home/nikkokks/.local/lib/python3.6/site-packages (from tensorflow) (3.7.4.3)\n",
      "Requirement already satisfied: six~=1.15.0 in /home/nikkokks/.local/lib/python3.6/site-packages (from tensorflow) (1.15.0)\n",
      "Requirement already satisfied: tensorflow-estimator~=2.6 in /home/nikkokks/.local/lib/python3.6/site-packages (from tensorflow) (2.6.0)\n",
      "Requirement already satisfied: clang~=5.0 in /home/nikkokks/.local/lib/python3.6/site-packages (from tensorflow) (5.0)\n",
      "Requirement already satisfied: numpy~=1.19.2 in /home/nikkokks/anaconda3/envs/TLA/lib/python3.6/site-packages (from tensorflow) (1.19.5)\n",
      "Requirement already satisfied: h5py~=3.1.0 in /home/nikkokks/.local/lib/python3.6/site-packages (from tensorflow) (3.1.0)\n",
      "Requirement already satisfied: keras-preprocessing~=1.1.2 in /home/nikkokks/anaconda3/envs/TLA/lib/python3.6/site-packages (from tensorflow) (1.1.2)\n",
      "Requirement already satisfied: keras~=2.6 in /home/nikkokks/.local/lib/python3.6/site-packages (from tensorflow) (2.6.0)\n",
      "Requirement already satisfied: termcolor~=1.1.0 in /home/nikkokks/anaconda3/envs/TLA/lib/python3.6/site-packages (from tensorflow) (1.1.0)\n",
      "Requirement already satisfied: cached-property in /home/nikkokks/anaconda3/envs/TLA/lib/python3.6/site-packages (from h5py~=3.1.0->tensorflow) (1.5.2)\n",
      "Requirement already satisfied: tensorboard-data-server<0.7.0,>=0.6.0 in /home/nikkokks/anaconda3/envs/TLA/lib/python3.6/site-packages (from tensorboard~=2.6->tensorflow) (0.6.1)\n",
      "Requirement already satisfied: google-auth<2,>=1.6.3 in /home/nikkokks/anaconda3/envs/TLA/lib/python3.6/site-packages (from tensorboard~=2.6->tensorflow) (1.34.0)\n",
      "Requirement already satisfied: markdown>=2.6.8 in /home/nikkokks/anaconda3/envs/TLA/lib/python3.6/site-packages (from tensorboard~=2.6->tensorflow) (3.3.4)\n",
      "Requirement already satisfied: tensorboard-plugin-wit>=1.6.0 in /home/nikkokks/anaconda3/envs/TLA/lib/python3.6/site-packages (from tensorboard~=2.6->tensorflow) (1.8.0)\n",
      "Requirement already satisfied: google-auth-oauthlib<0.5,>=0.4.1 in /home/nikkokks/anaconda3/envs/TLA/lib/python3.6/site-packages (from tensorboard~=2.6->tensorflow) (0.4.4)\n",
      "Requirement already satisfied: setuptools>=41.0.0 in /home/nikkokks/anaconda3/envs/TLA/lib/python3.6/site-packages (from tensorboard~=2.6->tensorflow) (57.4.0)\n",
      "Requirement already satisfied: requests<3,>=2.21.0 in /home/nikkokks/anaconda3/envs/TLA/lib/python3.6/site-packages (from tensorboard~=2.6->tensorflow) (2.26.0)\n",
      "Requirement already satisfied: werkzeug>=0.11.15 in /home/nikkokks/anaconda3/envs/TLA/lib/python3.6/site-packages (from tensorboard~=2.6->tensorflow) (2.0.1)\n",
      "Requirement already satisfied: cachetools<5.0,>=2.0.0 in /home/nikkokks/anaconda3/envs/TLA/lib/python3.6/site-packages (from google-auth<2,>=1.6.3->tensorboard~=2.6->tensorflow) (4.2.2)\n",
      "Requirement already satisfied: pyasn1-modules>=0.2.1 in /home/nikkokks/anaconda3/envs/TLA/lib/python3.6/site-packages (from google-auth<2,>=1.6.3->tensorboard~=2.6->tensorflow) (0.2.8)\n",
      "Requirement already satisfied: rsa<5,>=3.1.4 in /home/nikkokks/anaconda3/envs/TLA/lib/python3.6/site-packages (from google-auth<2,>=1.6.3->tensorboard~=2.6->tensorflow) (4.7.2)\n",
      "Requirement already satisfied: requests-oauthlib>=0.7.0 in /home/nikkokks/anaconda3/envs/TLA/lib/python3.6/site-packages (from google-auth-oauthlib<0.5,>=0.4.1->tensorboard~=2.6->tensorflow) (1.3.0)\n",
      "Requirement already satisfied: importlib-metadata in /home/nikkokks/anaconda3/envs/TLA/lib/python3.6/site-packages (from markdown>=2.6.8->tensorboard~=2.6->tensorflow) (4.6.1)\n",
      "Requirement already satisfied: pyasn1<0.5.0,>=0.4.6 in /home/nikkokks/anaconda3/envs/TLA/lib/python3.6/site-packages (from pyasn1-modules>=0.2.1->google-auth<2,>=1.6.3->tensorboard~=2.6->tensorflow) (0.4.8)\n",
      "Requirement already satisfied: idna<4,>=2.5 in /home/nikkokks/anaconda3/envs/TLA/lib/python3.6/site-packages (from requests<3,>=2.21.0->tensorboard~=2.6->tensorflow) (3.2)\n",
      "Requirement already satisfied: urllib3<1.27,>=1.21.1 in /home/nikkokks/anaconda3/envs/TLA/lib/python3.6/site-packages (from requests<3,>=2.21.0->tensorboard~=2.6->tensorflow) (1.26.6)\n",
      "Requirement already satisfied: charset-normalizer~=2.0.0 in /home/nikkokks/anaconda3/envs/TLA/lib/python3.6/site-packages (from requests<3,>=2.21.0->tensorboard~=2.6->tensorflow) (2.0.3)\n",
      "Requirement already satisfied: certifi>=2017.4.17 in /home/nikkokks/anaconda3/envs/TLA/lib/python3.6/site-packages (from requests<3,>=2.21.0->tensorboard~=2.6->tensorflow) (2021.5.30)\n",
      "Requirement already satisfied: oauthlib>=3.0.0 in /home/nikkokks/anaconda3/envs/TLA/lib/python3.6/site-packages (from requests-oauthlib>=0.7.0->google-auth-oauthlib<0.5,>=0.4.1->tensorboard~=2.6->tensorflow) (3.1.1)\n",
      "Requirement already satisfied: dataclasses in /home/nikkokks/anaconda3/envs/TLA/lib/python3.6/site-packages (from werkzeug>=0.11.15->tensorboard~=2.6->tensorflow) (0.8)\n",
      "Requirement already satisfied: zipp>=0.5 in /home/nikkokks/anaconda3/envs/TLA/lib/python3.6/site-packages (from importlib-metadata->markdown>=2.6.8->tensorboard~=2.6->tensorflow) (3.5.0)\n",
      "Requirement already satisfied: pip in /home/nikkokks/anaconda3/envs/TLA/lib/python3.6/site-packages (21.2.4)\n",
      "Requirement already satisfied: protein-bert in /home/nikkokks/anaconda3/envs/TLA/lib/python3.6/site-packages (1.0.1)\n",
      "Requirement already satisfied: tensorflow in /home/nikkokks/.local/lib/python3.6/site-packages (from protein-bert) (2.6.0)\n",
      "Requirement already satisfied: pyfaidx in /home/nikkokks/anaconda3/envs/TLA/lib/python3.6/site-packages/pyfaidx-0.6.1-py3.6.egg (from protein-bert) (0.6.1)\n",
      "Requirement already satisfied: lxml in /home/nikkokks/anaconda3/envs/TLA/lib/python3.6/site-packages (from protein-bert) (4.6.3)\n",
      "Requirement already satisfied: pandas in /home/nikkokks/anaconda3/envs/TLA/lib/python3.6/site-packages (from protein-bert) (1.1.5)\n",
      "Requirement already satisfied: tensorflow-addons in /home/nikkokks/anaconda3/envs/TLA/lib/python3.6/site-packages (from protein-bert) (0.13.0)\n",
      "Requirement already satisfied: h5py in /home/nikkokks/.local/lib/python3.6/site-packages (from protein-bert) (3.1.0)\n",
      "Requirement already satisfied: numpy in /home/nikkokks/anaconda3/envs/TLA/lib/python3.6/site-packages (from protein-bert) (1.19.5)\n",
      "Requirement already satisfied: cached-property in /home/nikkokks/anaconda3/envs/TLA/lib/python3.6/site-packages (from h5py->protein-bert) (1.5.2)\n",
      "Requirement already satisfied: python-dateutil>=2.7.3 in /home/nikkokks/anaconda3/envs/TLA/lib/python3.6/site-packages (from pandas->protein-bert) (2.8.2)\n",
      "Requirement already satisfied: pytz>=2017.2 in /home/nikkokks/anaconda3/envs/TLA/lib/python3.6/site-packages (from pandas->protein-bert) (2021.1)\n",
      "Requirement already satisfied: six>=1.5 in /home/nikkokks/.local/lib/python3.6/site-packages (from python-dateutil>=2.7.3->pandas->protein-bert) (1.15.0)\n",
      "Requirement already satisfied: setuptools>=0.7 in /home/nikkokks/anaconda3/envs/TLA/lib/python3.6/site-packages (from pyfaidx->protein-bert) (57.4.0)\n"
     ]
    },
    {
     "name": "stdout",
     "output_type": "stream",
     "text": [
      "Requirement already satisfied: keras-preprocessing~=1.1.2 in /home/nikkokks/anaconda3/envs/TLA/lib/python3.6/site-packages (from tensorflow->protein-bert) (1.1.2)\n",
      "Requirement already satisfied: typing-extensions~=3.7.4 in /home/nikkokks/.local/lib/python3.6/site-packages (from tensorflow->protein-bert) (3.7.4.3)\n",
      "Requirement already satisfied: grpcio<2.0,>=1.37.0 in /home/nikkokks/.local/lib/python3.6/site-packages (from tensorflow->protein-bert) (1.39.0)\n",
      "Requirement already satisfied: gast==0.4.0 in /home/nikkokks/.local/lib/python3.6/site-packages (from tensorflow->protein-bert) (0.4.0)\n",
      "Requirement already satisfied: absl-py~=0.10 in /home/nikkokks/anaconda3/envs/TLA/lib/python3.6/site-packages (from tensorflow->protein-bert) (0.13.0)\n",
      "Requirement already satisfied: tensorboard~=2.6 in /home/nikkokks/.local/lib/python3.6/site-packages (from tensorflow->protein-bert) (2.6.0)\n",
      "Requirement already satisfied: astunparse~=1.6.3 in /home/nikkokks/.local/lib/python3.6/site-packages (from tensorflow->protein-bert) (1.6.3)\n",
      "Requirement already satisfied: clang~=5.0 in /home/nikkokks/.local/lib/python3.6/site-packages (from tensorflow->protein-bert) (5.0)\n",
      "Requirement already satisfied: wheel~=0.35 in /home/nikkokks/anaconda3/envs/TLA/lib/python3.6/site-packages (from tensorflow->protein-bert) (0.36.2)\n",
      "Requirement already satisfied: wrapt~=1.12.1 in /home/nikkokks/anaconda3/envs/TLA/lib/python3.6/site-packages (from tensorflow->protein-bert) (1.12.1)\n",
      "Requirement already satisfied: keras~=2.6 in /home/nikkokks/.local/lib/python3.6/site-packages (from tensorflow->protein-bert) (2.6.0)\n",
      "Requirement already satisfied: protobuf>=3.9.2 in /home/nikkokks/anaconda3/envs/TLA/lib/python3.6/site-packages (from tensorflow->protein-bert) (3.17.3)\n",
      "Requirement already satisfied: opt-einsum~=3.3.0 in /home/nikkokks/anaconda3/envs/TLA/lib/python3.6/site-packages (from tensorflow->protein-bert) (3.3.0)\n",
      "Requirement already satisfied: flatbuffers~=1.12.0 in /home/nikkokks/.local/lib/python3.6/site-packages (from tensorflow->protein-bert) (1.12)\n",
      "Requirement already satisfied: google-pasta~=0.2 in /home/nikkokks/anaconda3/envs/TLA/lib/python3.6/site-packages (from tensorflow->protein-bert) (0.2.0)\n",
      "Requirement already satisfied: termcolor~=1.1.0 in /home/nikkokks/anaconda3/envs/TLA/lib/python3.6/site-packages (from tensorflow->protein-bert) (1.1.0)\n",
      "Requirement already satisfied: tensorflow-estimator~=2.6 in /home/nikkokks/.local/lib/python3.6/site-packages (from tensorflow->protein-bert) (2.6.0)\n",
      "Requirement already satisfied: tensorboard-data-server<0.7.0,>=0.6.0 in /home/nikkokks/anaconda3/envs/TLA/lib/python3.6/site-packages (from tensorboard~=2.6->tensorflow->protein-bert) (0.6.1)\n",
      "Requirement already satisfied: werkzeug>=0.11.15 in /home/nikkokks/anaconda3/envs/TLA/lib/python3.6/site-packages (from tensorboard~=2.6->tensorflow->protein-bert) (2.0.1)\n",
      "Requirement already satisfied: google-auth<2,>=1.6.3 in /home/nikkokks/anaconda3/envs/TLA/lib/python3.6/site-packages (from tensorboard~=2.6->tensorflow->protein-bert) (1.34.0)\n",
      "Requirement already satisfied: requests<3,>=2.21.0 in /home/nikkokks/anaconda3/envs/TLA/lib/python3.6/site-packages (from tensorboard~=2.6->tensorflow->protein-bert) (2.26.0)\n",
      "Requirement already satisfied: tensorboard-plugin-wit>=1.6.0 in /home/nikkokks/anaconda3/envs/TLA/lib/python3.6/site-packages (from tensorboard~=2.6->tensorflow->protein-bert) (1.8.0)\n",
      "Requirement already satisfied: google-auth-oauthlib<0.5,>=0.4.1 in /home/nikkokks/anaconda3/envs/TLA/lib/python3.6/site-packages (from tensorboard~=2.6->tensorflow->protein-bert) (0.4.4)\n",
      "Requirement already satisfied: markdown>=2.6.8 in /home/nikkokks/anaconda3/envs/TLA/lib/python3.6/site-packages (from tensorboard~=2.6->tensorflow->protein-bert) (3.3.4)\n",
      "Requirement already satisfied: pyasn1-modules>=0.2.1 in /home/nikkokks/anaconda3/envs/TLA/lib/python3.6/site-packages (from google-auth<2,>=1.6.3->tensorboard~=2.6->tensorflow->protein-bert) (0.2.8)\n",
      "Requirement already satisfied: rsa<5,>=3.1.4 in /home/nikkokks/anaconda3/envs/TLA/lib/python3.6/site-packages (from google-auth<2,>=1.6.3->tensorboard~=2.6->tensorflow->protein-bert) (4.7.2)\n",
      "Requirement already satisfied: cachetools<5.0,>=2.0.0 in /home/nikkokks/anaconda3/envs/TLA/lib/python3.6/site-packages (from google-auth<2,>=1.6.3->tensorboard~=2.6->tensorflow->protein-bert) (4.2.2)\n",
      "Requirement already satisfied: requests-oauthlib>=0.7.0 in /home/nikkokks/anaconda3/envs/TLA/lib/python3.6/site-packages (from google-auth-oauthlib<0.5,>=0.4.1->tensorboard~=2.6->tensorflow->protein-bert) (1.3.0)\n",
      "Requirement already satisfied: importlib-metadata in /home/nikkokks/anaconda3/envs/TLA/lib/python3.6/site-packages (from markdown>=2.6.8->tensorboard~=2.6->tensorflow->protein-bert) (4.6.1)\n",
      "Requirement already satisfied: pyasn1<0.5.0,>=0.4.6 in /home/nikkokks/anaconda3/envs/TLA/lib/python3.6/site-packages (from pyasn1-modules>=0.2.1->google-auth<2,>=1.6.3->tensorboard~=2.6->tensorflow->protein-bert) (0.4.8)\n",
      "Requirement already satisfied: certifi>=2017.4.17 in /home/nikkokks/anaconda3/envs/TLA/lib/python3.6/site-packages (from requests<3,>=2.21.0->tensorboard~=2.6->tensorflow->protein-bert) (2021.5.30)\n",
      "Requirement already satisfied: urllib3<1.27,>=1.21.1 in /home/nikkokks/anaconda3/envs/TLA/lib/python3.6/site-packages (from requests<3,>=2.21.0->tensorboard~=2.6->tensorflow->protein-bert) (1.26.6)\n",
      "Requirement already satisfied: charset-normalizer~=2.0.0 in /home/nikkokks/anaconda3/envs/TLA/lib/python3.6/site-packages (from requests<3,>=2.21.0->tensorboard~=2.6->tensorflow->protein-bert) (2.0.3)\n",
      "Requirement already satisfied: idna<4,>=2.5 in /home/nikkokks/anaconda3/envs/TLA/lib/python3.6/site-packages (from requests<3,>=2.21.0->tensorboard~=2.6->tensorflow->protein-bert) (3.2)\n",
      "Requirement already satisfied: oauthlib>=3.0.0 in /home/nikkokks/anaconda3/envs/TLA/lib/python3.6/site-packages (from requests-oauthlib>=0.7.0->google-auth-oauthlib<0.5,>=0.4.1->tensorboard~=2.6->tensorflow->protein-bert) (3.1.1)\n",
      "Requirement already satisfied: dataclasses in /home/nikkokks/anaconda3/envs/TLA/lib/python3.6/site-packages (from werkzeug>=0.11.15->tensorboard~=2.6->tensorflow->protein-bert) (0.8)\n",
      "Requirement already satisfied: zipp>=0.5 in /home/nikkokks/anaconda3/envs/TLA/lib/python3.6/site-packages (from importlib-metadata->markdown>=2.6.8->tensorboard~=2.6->tensorflow->protein-bert) (3.5.0)\n",
      "Requirement already satisfied: typeguard>=2.7 in /home/nikkokks/anaconda3/envs/TLA/lib/python3.6/site-packages (from tensorflow-addons->protein-bert) (2.12.1)\n"
     ]
    }
   ],
   "source": [
    "# installation of dependencies\n",
    "!pip install tensorflow --user --upgrade\n",
    "!pip install --upgrade pip\n",
    "!pip install protein-bert"
   ]
  },
  {
   "cell_type": "code",
   "execution_count": 2,
   "id": "dbfdc823",
   "metadata": {},
   "outputs": [],
   "source": [
    "# creation of dir for download models\n",
    "!mkdir ~/protein_models/"
   ]
  },
  {
   "cell_type": "code",
   "execution_count": 3,
   "id": "19f49a1f",
   "metadata": {},
   "outputs": [],
   "source": [
    "import os\n",
    "\n",
    "import pandas as pd\n",
    "from IPython.display import display\n",
    "\n",
    "from tensorflow import keras\n",
    "\n",
    "from sklearn.model_selection import train_test_split\n",
    "\n",
    "from proteinbert import OutputType, OutputSpec, FinetuningModelGenerator, load_pretrained_model, finetune, evaluate_by_len\n",
    "from proteinbert.conv_and_global_attention_model import get_model_with_hidden_layers_as_outputs\n"
   ]
  },
  {
   "cell_type": "code",
   "execution_count": 6,
   "id": "13e50ec8",
   "metadata": {},
   "outputs": [],
   "source": [
    "df = pd.read_csv('../data/train/sequences.tsv.gz',compression='gzip',sep='\\t')"
   ]
  },
  {
   "cell_type": "code",
   "execution_count": 28,
   "id": "9c357d83",
   "metadata": {},
   "outputs": [],
   "source": [
    "pretrained_model_generator, input_encoder = load_pretrained_model()\n",
    "\n",
    "\n",
    "model = pretrained_model_generator.create_model(512)\n",
    "# model = pretrained_model_generator.create_model_function(512,100000,0)\n",
    "model = get_model_with_hidden_layers_as_outputs(model)\n",
    "a = model.predict(input_encoder.encode_X(df['seq'].iloc[:1].values,512))"
   ]
  },
  {
   "cell_type": "code",
   "execution_count": 33,
   "id": "7f672b9a",
   "metadata": {},
   "outputs": [
    {
     "data": {
      "text/plain": [
       "(1, 512, 1562)"
      ]
     },
     "execution_count": 33,
     "metadata": {},
     "output_type": "execute_result"
    }
   ],
   "source": [
    "a[0].shape"
   ]
  },
  {
   "cell_type": "code",
   "execution_count": 34,
   "id": "9c626236",
   "metadata": {},
   "outputs": [
    {
     "data": {
      "text/plain": [
       "[array([[[-8.37558657e-02,  8.14491212e-02, -5.45860641e-02, ...,\n",
       "           9.99999285e-01,  1.03678552e-10,  3.43917664e-16],\n",
       "         [ 1.90626964e-01, -1.66095152e-01,  9.09234732e-02, ...,\n",
       "           6.39316681e-07,  5.57353474e-07,  6.09726991e-10],\n",
       "         [-1.04080603e-01,  1.50927193e-02,  1.02050796e-01, ...,\n",
       "           5.12028420e-09,  4.36868618e-07,  1.50220072e-10],\n",
       "         ...,\n",
       "         [-5.36816716e-02, -2.45648418e-02,  3.97539698e-05, ...,\n",
       "           8.78613893e-09,  3.60788661e-03,  2.34903569e-10],\n",
       "         [-4.60521877e-02, -1.38699627e-02, -1.22413374e-02, ...,\n",
       "           6.86557655e-08,  3.74894793e-04,  2.20340191e-10],\n",
       "         [-5.09898737e-02,  1.57878883e-02, -1.29423570e-03, ...,\n",
       "           1.28405816e-06,  5.48504177e-05,  2.27256242e-10]]],\n",
       "       dtype=float32),\n",
       " array([[-4.2408835e-03,  3.2960442e-03, -1.5650194e-02, ...,\n",
       "          1.8562940e-07,  9.1964808e-05,  2.7206903e-10]], dtype=float32)]"
      ]
     },
     "execution_count": 34,
     "metadata": {},
     "output_type": "execute_result"
    }
   ],
   "source": [
    "a"
   ]
  },
  {
   "cell_type": "code",
   "execution_count": null,
   "id": "0872d6ed",
   "metadata": {},
   "outputs": [],
   "source": []
  }
 ],
 "metadata": {
  "kernelspec": {
   "display_name": "Python 3",
   "language": "python",
   "name": "python3"
  },
  "language_info": {
   "codemirror_mode": {
    "name": "ipython",
    "version": 3
   },
   "file_extension": ".py",
   "mimetype": "text/x-python",
   "name": "python",
   "nbconvert_exporter": "python",
   "pygments_lexer": "ipython3",
   "version": "3.6.6"
  }
 },
 "nbformat": 4,
 "nbformat_minor": 5
}
