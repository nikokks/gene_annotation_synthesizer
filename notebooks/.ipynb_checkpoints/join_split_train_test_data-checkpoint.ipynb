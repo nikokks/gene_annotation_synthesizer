{
 "cells": [
  {
   "cell_type": "code",
   "execution_count": 1,
   "id": "5da29cf7",
   "metadata": {},
   "outputs": [],
   "source": [
    "import pandas as pd"
   ]
  },
  {
   "cell_type": "code",
   "execution_count": 2,
   "id": "ebc3fa20",
   "metadata": {},
   "outputs": [],
   "source": [
    "seq = pd.read_csv('../data/sequences.tsv',sep='\\t')"
   ]
  },
  {
   "cell_type": "code",
   "execution_count": 3,
   "id": "5e26b80f",
   "metadata": {},
   "outputs": [],
   "source": [
    "names = pd.read_csv('../data/names.tsv',sep='\\t')"
   ]
  },
  {
   "cell_type": "code",
   "execution_count": 4,
   "id": "832d5a70",
   "metadata": {},
   "outputs": [],
   "source": [
    "df = pd.merge(names, seq, how='left', on='id')"
   ]
  },
  {
   "cell_type": "code",
   "execution_count": 5,
   "id": "dd3ac3d0",
   "metadata": {},
   "outputs": [],
   "source": [
    "df = df.dropna()"
   ]
  },
  {
   "cell_type": "code",
   "execution_count": 6,
   "id": "2b882488",
   "metadata": {},
   "outputs": [],
   "source": [
    "df = df.drop_duplicates()"
   ]
  },
  {
   "cell_type": "code",
   "execution_count": 7,
   "id": "3e29a84f",
   "metadata": {},
   "outputs": [],
   "source": [
    "from sklearn.model_selection import train_test_split\n",
    "df_train, df_test = train_test_split(df, test_size=0.15, random_state=42, shuffle=True)"
   ]
  },
  {
   "cell_type": "code",
   "execution_count": 8,
   "id": "0f7141f6",
   "metadata": {},
   "outputs": [
    {
     "data": {
      "text/plain": [
       "84.99998054005246"
      ]
     },
     "execution_count": 8,
     "metadata": {},
     "output_type": "execute_result"
    }
   ],
   "source": [
    "df_train.shape[0]/ df.shape[0] * 100"
   ]
  },
  {
   "cell_type": "code",
   "execution_count": 11,
   "id": "0f8c88bb",
   "metadata": {},
   "outputs": [],
   "source": [
    "df_train.to_csv('../data/df_train.csv')"
   ]
  },
  {
   "cell_type": "code",
   "execution_count": 12,
   "id": "24fb17d9",
   "metadata": {},
   "outputs": [],
   "source": [
    "df_test.to_csv('../data/df_test.csv')"
   ]
  },
  {
   "cell_type": "code",
   "execution_count": null,
   "id": "c5bde86a",
   "metadata": {},
   "outputs": [],
   "source": []
  }
 ],
 "metadata": {
  "kernelspec": {
   "display_name": "Python 3",
   "language": "python",
   "name": "python3"
  },
  "language_info": {
   "codemirror_mode": {
    "name": "ipython",
    "version": 3
   },
   "file_extension": ".py",
   "mimetype": "text/x-python",
   "name": "python",
   "nbconvert_exporter": "python",
   "pygments_lexer": "ipython3",
   "version": "3.6.6"
  }
 },
 "nbformat": 4,
 "nbformat_minor": 5
}
